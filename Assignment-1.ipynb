{
  "nbformat": 4,
  "nbformat_minor": 0,
  "metadata": {
    "colab": {
      "provenance": [],
      "authorship_tag": "ABX9TyOevXxLBqQA8011H1Sai6OA",
      "include_colab_link": true
    },
    "kernelspec": {
      "name": "python3",
      "display_name": "Python 3"
    },
    "language_info": {
      "name": "python"
    }
  },
  "cells": [
    {
      "cell_type": "markdown",
      "metadata": {
        "id": "view-in-github",
        "colab_type": "text"
      },
      "source": [
        "<a href=\"https://colab.research.google.com/github/anuragbantu/DL-Assignment-1/blob/main/Assignment-1.ipynb\" target=\"_parent\"><img src=\"https://colab.research.google.com/assets/colab-badge.svg\" alt=\"Open In Colab\"/></a>"
      ]
    },
    {
      "cell_type": "code",
      "execution_count": 1,
      "metadata": {
        "id": "PxbO7JK8OZZx"
      },
      "outputs": [],
      "source": [
        "#import the required libraries\n",
        "\n",
        "import numpy as np\n",
        "import pandas as pd\n",
        "import matplotlib.pyplot as plt\n",
        "import seaborn as sns\n",
        "from sklearn.metrics import confusion_matrix\n",
        "from keras.datasets import fashion_mnist"
      ]
    },
    {
      "cell_type": "markdown",
      "source": [
        "# **Question 1**"
      ],
      "metadata": {
        "id": "ob2cv5OcefQi"
      }
    },
    {
      "cell_type": "markdown",
      "source": [
        "The fashion_MNIST dataset is loaded and 1 sample image for each classs is plotted below."
      ],
      "metadata": {
        "id": "EnyYaRUsdwft"
      }
    },
    {
      "cell_type": "code",
      "source": [
        "(x_train, y_train), (x_test, y_test) = fashion_mnist.load_data()\n"
      ],
      "metadata": {
        "id": "f8Y7vfqydcIi",
        "colab": {
          "base_uri": "https://localhost:8080/"
        },
        "outputId": "20bba1bd-2b11-42d2-c06c-56e72067d9e9"
      },
      "execution_count": 2,
      "outputs": [
        {
          "output_type": "stream",
          "name": "stdout",
          "text": [
            "Downloading data from https://storage.googleapis.com/tensorflow/tf-keras-datasets/train-labels-idx1-ubyte.gz\n",
            "\u001b[1m29515/29515\u001b[0m \u001b[32m━━━━━━━━━━━━━━━━━━━━\u001b[0m\u001b[37m\u001b[0m \u001b[1m0s\u001b[0m 0us/step\n",
            "Downloading data from https://storage.googleapis.com/tensorflow/tf-keras-datasets/train-images-idx3-ubyte.gz\n",
            "\u001b[1m26421880/26421880\u001b[0m \u001b[32m━━━━━━━━━━━━━━━━━━━━\u001b[0m\u001b[37m\u001b[0m \u001b[1m0s\u001b[0m 0us/step\n",
            "Downloading data from https://storage.googleapis.com/tensorflow/tf-keras-datasets/t10k-labels-idx1-ubyte.gz\n",
            "\u001b[1m5148/5148\u001b[0m \u001b[32m━━━━━━━━━━━━━━━━━━━━\u001b[0m\u001b[37m\u001b[0m \u001b[1m0s\u001b[0m 1us/step\n",
            "Downloading data from https://storage.googleapis.com/tensorflow/tf-keras-datasets/t10k-images-idx3-ubyte.gz\n",
            "\u001b[1m4422102/4422102\u001b[0m \u001b[32m━━━━━━━━━━━━━━━━━━━━\u001b[0m\u001b[37m\u001b[0m \u001b[1m0s\u001b[0m 0us/step\n"
          ]
        }
      ]
    },
    {
      "cell_type": "code",
      "source": [
        "#installing wandb and then logging in\n",
        "!pip install wandb -Uq"
      ],
      "metadata": {
        "id": "y4csehCItsa9"
      },
      "execution_count": 3,
      "outputs": []
    },
    {
      "cell_type": "code",
      "source": [
        "import wandb\n",
        "wandb.login()"
      ],
      "metadata": {
        "colab": {
          "base_uri": "https://localhost:8080/",
          "height": 228
        },
        "id": "J75LUh9-xfQW",
        "outputId": "2006cb0f-8dc0-41c9-e1b5-04aecebfa42f"
      },
      "execution_count": 4,
      "outputs": [
        {
          "output_type": "stream",
          "name": "stderr",
          "text": [
            "\u001b[34m\u001b[1mwandb\u001b[0m: Using wandb-core as the SDK backend.  Please refer to https://wandb.me/wandb-core for more information.\n"
          ]
        },
        {
          "output_type": "display_data",
          "data": {
            "text/plain": [
              "<IPython.core.display.Javascript object>"
            ],
            "application/javascript": [
              "\n",
              "        window._wandbApiKey = new Promise((resolve, reject) => {\n",
              "            function loadScript(url) {\n",
              "            return new Promise(function(resolve, reject) {\n",
              "                let newScript = document.createElement(\"script\");\n",
              "                newScript.onerror = reject;\n",
              "                newScript.onload = resolve;\n",
              "                document.body.appendChild(newScript);\n",
              "                newScript.src = url;\n",
              "            });\n",
              "            }\n",
              "            loadScript(\"https://cdn.jsdelivr.net/npm/postmate/build/postmate.min.js\").then(() => {\n",
              "            const iframe = document.createElement('iframe')\n",
              "            iframe.style.cssText = \"width:0;height:0;border:none\"\n",
              "            document.body.appendChild(iframe)\n",
              "            const handshake = new Postmate({\n",
              "                container: iframe,\n",
              "                url: 'https://wandb.ai/authorize'\n",
              "            });\n",
              "            const timeout = setTimeout(() => reject(\"Couldn't auto authenticate\"), 5000)\n",
              "            handshake.then(function(child) {\n",
              "                child.on('authorize', data => {\n",
              "                    clearTimeout(timeout)\n",
              "                    resolve(data)\n",
              "                });\n",
              "            });\n",
              "            })\n",
              "        });\n",
              "    "
            ]
          },
          "metadata": {}
        },
        {
          "output_type": "stream",
          "name": "stderr",
          "text": [
            "\u001b[34m\u001b[1mwandb\u001b[0m: Logging into wandb.ai. (Learn how to deploy a W&B server locally: https://wandb.me/wandb-server)\n",
            "\u001b[34m\u001b[1mwandb\u001b[0m: You can find your API key in your browser here: https://wandb.ai/authorize\n",
            "wandb: Paste an API key from your profile and hit enter:"
          ]
        },
        {
          "name": "stdout",
          "output_type": "stream",
          "text": [
            " ··········\n"
          ]
        },
        {
          "output_type": "stream",
          "name": "stderr",
          "text": [
            "\u001b[34m\u001b[1mwandb\u001b[0m: \u001b[33mWARNING\u001b[0m If you're specifying your api key in code, ensure this code is not shared publicly.\n",
            "\u001b[34m\u001b[1mwandb\u001b[0m: \u001b[33mWARNING\u001b[0m Consider setting the WANDB_API_KEY environment variable, or running `wandb login` from the command line.\n",
            "\u001b[34m\u001b[1mwandb\u001b[0m: No netrc file found, creating one.\n",
            "\u001b[34m\u001b[1mwandb\u001b[0m: Appending key for api.wandb.ai to your netrc file: /root/.netrc\n",
            "\u001b[34m\u001b[1mwandb\u001b[0m: Currently logged in as: \u001b[33mma24m003\u001b[0m (\u001b[33mma24m003-iit-madras\u001b[0m) to \u001b[32mhttps://api.wandb.ai\u001b[0m. Use \u001b[1m`wandb login --relogin`\u001b[0m to force relogin\n"
          ]
        },
        {
          "output_type": "execute_result",
          "data": {
            "text/plain": [
              "True"
            ]
          },
          "metadata": {},
          "execution_count": 4
        }
      ]
    },
    {
      "cell_type": "code",
      "source": [
        "class_labels = {\n",
        "    0: 'T-shirt/top',\n",
        "    1: 'Trouser',\n",
        "    2: 'Pullover',\n",
        "    3: 'Dress',\n",
        "    4: 'Coat',\n",
        "    5: 'Sandal',\n",
        "    6: 'Shirt',\n",
        "    7: 'Sneaker',\n",
        "    8: 'Bag',\n",
        "    9: 'Ankle boot'\n",
        "}"
      ],
      "metadata": {
        "id": "L0THdbK6ciZb"
      },
      "execution_count": 5,
      "outputs": []
    },
    {
      "cell_type": "code",
      "source": [
        "wandb.init(project=\"fashion-mnist-visualization\")\n",
        "\n",
        "fig, axes = plt.subplots(4, 3, figsize=(8, 8))\n",
        "\n",
        "for i in range(10):\n",
        "    idx = np.where(y_train == i)[0][0]\n",
        "    ax = axes[i // 3, i % 3]\n",
        "    ax.imshow(x_train[idx], cmap='gray')\n",
        "    ax.set_title(class_labels[i])\n",
        "    ax.axis('off')\n",
        "\n",
        "plt.tight_layout()\n",
        "\n",
        "wandb.log({\"Fashion MNIST Samples\": wandb.Image(fig)})\n",
        "\n",
        "plt.show()\n",
        "\n",
        "wandb.finish()"
      ],
      "metadata": {
        "colab": {
          "base_uri": "https://localhost:8080/",
          "height": 857
        },
        "id": "U8ATGIb7MFeO",
        "outputId": "57899ef7-85b9-49d8-95b8-aeaca7a116e8"
      },
      "execution_count": 6,
      "outputs": [
        {
          "output_type": "display_data",
          "data": {
            "text/plain": [
              "<IPython.core.display.HTML object>"
            ],
            "text/html": [
              "Tracking run with wandb version 0.19.8"
            ]
          },
          "metadata": {}
        },
        {
          "output_type": "display_data",
          "data": {
            "text/plain": [
              "<IPython.core.display.HTML object>"
            ],
            "text/html": [
              "Run data is saved locally in <code>/content/wandb/run-20250317_052502-1of615hs</code>"
            ]
          },
          "metadata": {}
        },
        {
          "output_type": "display_data",
          "data": {
            "text/plain": [
              "<IPython.core.display.HTML object>"
            ],
            "text/html": [
              "Syncing run <strong><a href='https://wandb.ai/ma24m003-iit-madras/fashion-mnist-visualization/runs/1of615hs' target=\"_blank\">peach-grass-2</a></strong> to <a href='https://wandb.ai/ma24m003-iit-madras/fashion-mnist-visualization' target=\"_blank\">Weights & Biases</a> (<a href='https://wandb.me/developer-guide' target=\"_blank\">docs</a>)<br>"
            ]
          },
          "metadata": {}
        },
        {
          "output_type": "display_data",
          "data": {
            "text/plain": [
              "<IPython.core.display.HTML object>"
            ],
            "text/html": [
              " View project at <a href='https://wandb.ai/ma24m003-iit-madras/fashion-mnist-visualization' target=\"_blank\">https://wandb.ai/ma24m003-iit-madras/fashion-mnist-visualization</a>"
            ]
          },
          "metadata": {}
        },
        {
          "output_type": "display_data",
          "data": {
            "text/plain": [
              "<IPython.core.display.HTML object>"
            ],
            "text/html": [
              " View run at <a href='https://wandb.ai/ma24m003-iit-madras/fashion-mnist-visualization/runs/1of615hs' target=\"_blank\">https://wandb.ai/ma24m003-iit-madras/fashion-mnist-visualization/runs/1of615hs</a>"
            ]
          },
          "metadata": {}
        },
        {
          "output_type": "display_data",
          "data": {
            "text/plain": [
              "<Figure size 800x800 with 12 Axes>"
            ],
            "image/png": "[encoded data removed]"
          },
          "metadata": {}
        },
        {
          "output_type": "display_data",
          "data": {
            "text/plain": [
              "<IPython.core.display.HTML object>"
            ],
            "text/html": []
          },
          "metadata": {}
        },
        {
          "output_type": "display_data",
          "data": {
            "text/plain": [
              "<IPython.core.display.HTML object>"
            ],
            "text/html": [
              " View run <strong style=\"color:#cdcd00\">peach-grass-2</strong> at: <a href='https://wandb.ai/ma24m003-iit-madras/fashion-mnist-visualization/runs/1of615hs' target=\"_blank\">https://wandb.ai/ma24m003-iit-madras/fashion-mnist-visualization/runs/1of615hs</a><br> View project at: <a href='https://wandb.ai/ma24m003-iit-madras/fashion-mnist-visualization' target=\"_blank\">https://wandb.ai/ma24m003-iit-madras/fashion-mnist-visualization</a><br>Synced 5 W&B file(s), 1 media file(s), 0 artifact file(s) and 0 other file(s)"
            ]
          },
          "metadata": {}
        },
        {
          "output_type": "display_data",
          "data": {
            "text/plain": [
              "<IPython.core.display.HTML object>"
            ],
            "text/html": [
              "Find logs at: <code>./wandb/run-20250317_052502-1of615hs/logs</code>"
            ]
          },
          "metadata": {}
        }
      ]
    },
    {
      "cell_type": "markdown",
      "source": [
        "## **Question 2 & 3**"
      ],
      "metadata": {
        "id": "9mvEktx-esgQ"
      }
    },
    {
      "cell_type": "markdown",
      "source": [
        "preparing the dataset."
      ],
      "metadata": {
        "id": "frEG3Wq5ROGC"
      }
    },
    {
      "cell_type": "code",
      "source": [
        "x_train = x_train.reshape(x_train.shape[0], 28, 28, 1)\n",
        "x_train = x_train.astype('float32') / 255.0"
      ],
      "metadata": {
        "id": "FW3xiOznpkwL"
      },
      "execution_count": 7,
      "outputs": []
    },
    {
      "cell_type": "markdown",
      "source": [],
      "metadata": {
        "id": "0dnNhefffB6s"
      }
    },
    {
      "cell_type": "code",
      "source": [
        "def one_hot_encode(labels, num_classes=None):\n",
        "    if num_classes is None:\n",
        "        num_classes = np.max(labels) + 1\n",
        "\n",
        "    encoded = np.zeros((len(labels), num_classes))\n",
        "\n",
        "    encoded[np.arange(len(labels)), labels] = 1\n",
        "\n",
        "    return encoded\n",
        "\n",
        "y_train = one_hot_encode(y_train)\n"
      ],
      "metadata": {
        "id": "1QJLo0MNWX2U"
      },
      "execution_count": 8,
      "outputs": []
    },
    {
      "cell_type": "code",
      "source": [
        "y_test = one_hot_encode(y_test)"
      ],
      "metadata": {
        "id": "Ma5ZlDKaFeUZ"
      },
      "execution_count": 9,
      "outputs": []
    },
    {
      "cell_type": "markdown",
      "source": [
        "Define all the activation functions and the necessary loss functions. We will use cross entropy loss for the most part but in Question 8 we will use squared error loss as well."
      ],
      "metadata": {
        "id": "W0oIH3Rxp6DW"
      }
    },
    {
      "cell_type": "code",
      "source": [
        "def sigmoid(x):\n",
        "  return 0.5 * (1 + np.tanh(0.5 * x))\n",
        "\n",
        "def sigmoid_d(x):\n",
        "  s= sigmoid(x)\n",
        "  return s*(1-s)\n",
        "\n",
        "def softmax(x):\n",
        "    e_x = np.exp(x - np.max(x, axis=-1, keepdims=True) + 1e-8)\n",
        "    return e_x / np.sum(e_x, axis=-1, keepdims=True)\n",
        "\n",
        "def softmax_d(x):\n",
        "    diag_s = np.diag(x)\n",
        "\n",
        "    outer_s = np.outer(x, x)\n",
        "    return diag_s - outer_s\n",
        "\n",
        "def tanh(x):\n",
        "    return np.tanh(x)\n",
        "\n",
        "def tanh_d(x):\n",
        "    return 1 - np.square(np.tanh(x))\n",
        "\n",
        "def relu(x):\n",
        "    return np.maximum(0, x)\n",
        "\n",
        "def relu_d(x):\n",
        "    return np.where(x > 0, 1, 0)\n",
        "\n",
        "#CCE loss function\n",
        "def categorical_cross_entropy(y_true, y_pred, layers, weight_decay=0):\n",
        "    epsilon = 1e-15\n",
        "    y_pred = np.clip(y_pred, epsilon, 1 - epsilon)\n",
        "    loss = -np.sum(y_true * np.log(y_pred), axis=-1)\n",
        "    loss = np.mean(loss)\n",
        "\n",
        "    l2_penalty = weight_decay * sum(np.sum(layer.weights ** 2) for layer in layers)\n",
        "\n",
        "    return loss + l2_penalty\n",
        "\n",
        "#MSE loss\n",
        "def squared_error_loss(y_true, y_pred):\n",
        "    return (np.mean(np.sum((y_true - y_pred) ** 2, axis=1))/2)\n",
        "\n",
        "activations = {\"sigmoid\":sigmoid,\"softmax\":softmax,\"tanh\":tanh,\"relu\":relu}\n",
        "\n",
        "derivatives = {\"sigmoid\":sigmoid_d}\n",
        "\n",
        "\n",
        "\n"
      ],
      "metadata": {
        "id": "G4ia-XAuevXt"
      },
      "execution_count": 10,
      "outputs": []
    },
    {
      "cell_type": "markdown",
      "source": [
        "Define a class for layers."
      ],
      "metadata": {
        "id": "0bXn4sY0TRn4"
      }
    },
    {
      "cell_type": "code",
      "source": [
        "class layer:\n",
        "  def __init__(self, input, neurons, activation, weight_init):\n",
        "    if weight_init == \"xavier\":\n",
        "        self.weights = np.random.randn(input, neurons) * np.sqrt(1 / input)\n",
        "    else:\n",
        "        self.weights = np.random.randn(input, neurons)\n",
        "    self.bias = np.zeros((1, neurons))\n",
        "    self.activation = activations[activation]\n",
        "    self.activation_d = derivatives.get(activation, None)\n",
        "\n",
        "  #define forward propagation\n",
        "  def forward(self, a_prev):\n",
        "    self.a_prev = a_prev\n",
        "    self.z = np.dot(self.a_prev,self.weights) + self.bias\n",
        "    self.a = self.activation(self.z)\n",
        "    return self.a\n",
        "\n",
        "  #define all the optimization techniques being used\n",
        "  def sgd(self,w_d,b_d,lr):\n",
        "    self.weights -= lr*w_d\n",
        "    self.bias -= lr*b_d\n",
        "\n",
        "  def momentum_gd(self, w_d, b_d, lr, momentum=0.9):\n",
        "    if not hasattr(self, 'm_w'):\n",
        "        self.m_w = np.zeros_like(self.weights)\n",
        "    if not hasattr(self, 'm_b'):\n",
        "        self.m_b = np.zeros_like(self.bias)\n",
        "    self.m_w = momentum * self.m_w + lr * w_d\n",
        "    self.m_b = momentum * self.m_b + lr * b_d\n",
        "    self.weights -= self.m_w\n",
        "    self.bias -= self.m_b\n",
        "\n",
        "  def nesterov_gd(self, w_d, b_d, lr, momentum=0.9):\n",
        "      if not hasattr(self, 'm_w'):\n",
        "          self.m_w = np.zeros_like(self.weights)\n",
        "      if not hasattr(self, 'm_b'):\n",
        "          self.m_b = np.zeros_like(self.bias)\n",
        "      m_w_prev, m_b_prev = self.m_w, self.m_b\n",
        "      self.m_w = momentum * self.m_w + lr * w_d\n",
        "      self.m_b = momentum * self.m_b + lr * b_d\n",
        "      self.weights -= momentum * m_w_prev + (1 + momentum) * self.m_w\n",
        "      self.bias -= momentum * m_b_prev + (1 + momentum) * self.m_b\n",
        "\n",
        "  def rmsprop(self, w_d, b_d, lr, decay_rate=0.9, epsilon=1e-8):\n",
        "      if not hasattr(self, 'v_w'):\n",
        "          self.v_w = np.zeros_like(self.weights)\n",
        "      if not hasattr(self, 'v_b'):\n",
        "          self.v_b = np.zeros_like(self.bias)\n",
        "      self.v_w = decay_rate * self.v_w + (1 - decay_rate) * np.square(w_d)\n",
        "      self.v_b = decay_rate * self.v_b + (1 - decay_rate) * np.square(b_d)\n",
        "      self.weights -= lr * w_d / (np.sqrt(self.v_w) + epsilon)\n",
        "      self.bias -= lr * b_d / (np.sqrt(self.v_b) + epsilon)\n",
        "\n",
        "  def adam(self, w_d, b_d, lr, beta1=0.9, beta2=0.999, epsilon=1e-8):\n",
        "\n",
        "      if not hasattr(self, 'm_w'):\n",
        "        self.m_w = np.zeros_like(self.weights)\n",
        "      if not hasattr(self, 'm_b'):\n",
        "          self.m_b = np.zeros_like(self.bias)\n",
        "      if not hasattr(self, 'v_w'):\n",
        "          self.v_w = np.zeros_like(self.weights)\n",
        "      if not hasattr(self, 'v_b'):\n",
        "          self.v_b = np.zeros_like(self.bias)\n",
        "      if not hasattr(self, 't'):\n",
        "          self.t = 0\n",
        "\n",
        "      self.t += 1\n",
        "\n",
        "      self.m_w = beta1 * self.m_w + (1 - beta1) * w_d\n",
        "      self.m_b = beta1 * self.m_b + (1 - beta1) * b_d\n",
        "      self.v_w = beta2 * self.v_w + (1 - beta2) * np.square(w_d)\n",
        "      self.v_b = beta2 * self.v_b + (1 - beta2) * np.square(b_d)\n",
        "      m_w_hat = self.m_w / (1 - beta1**self.t)\n",
        "      m_b_hat = self.m_b / (1 - beta1**self.t)\n",
        "      v_w_hat = self.v_w / (1 - beta2**self.t)\n",
        "      v_b_hat = self.v_b / (1 - beta2**self.t)\n",
        "      self.weights -= lr * m_w_hat / (np.sqrt(v_w_hat) + epsilon)\n",
        "      self.bias -= lr * m_b_hat / (np.sqrt(v_b_hat) + epsilon)\n",
        "\n",
        "  def nadam(self, w_d, b_d, lr, beta1=0.9, beta2=0.999, epsilon=1e-8):\n",
        "      if not hasattr(self, 'm_w'):\n",
        "        self.m_w = np.zeros_like(self.weights)\n",
        "      if not hasattr(self, 'm_b'):\n",
        "          self.m_b = np.zeros_like(self.bias)\n",
        "      if not hasattr(self, 'v_w'):\n",
        "          self.v_w = np.zeros_like(self.weights)\n",
        "      if not hasattr(self, 'v_b'):\n",
        "          self.v_b = np.zeros_like(self.bias)\n",
        "      if not hasattr(self, 't'):\n",
        "          self.t = 0\n",
        "      self.t += 1\n",
        "      self.m_w = beta1 * self.m_w + (1 - beta1) * w_d\n",
        "      self.m_b = beta1 * self.m_b + (1 - beta1) * b_d\n",
        "      self.v_w = beta2 * self.v_w + (1 - beta2) * np.square(w_d)\n",
        "      self.v_b = beta2 * self.v_b + (1 - beta2) * np.square(b_d)\n",
        "      m_w_hat = self.m_w / (1 - beta1**self.t)\n",
        "      m_b_hat = self.m_b / (1 - beta1**self.t)\n",
        "      v_w_hat = self.v_w / (1 - beta2**self.t)\n",
        "      v_b_hat = self.v_b / (1 - beta2**self.t)\n",
        "      m_w_bar = beta1 * m_w_hat + ((1 - beta1) / (1 - beta1**self.t)) * w_d\n",
        "      m_b_bar = beta1 * m_b_hat + ((1 - beta1) / (1 - beta1**self.t)) * b_d\n",
        "      self.weights -= lr * m_w_bar / (np.sqrt(v_w_hat) + epsilon)\n",
        "      self.bias -= lr * m_b_bar / (np.sqrt(v_b_hat) + epsilon)\n",
        "\n",
        "\n",
        "  #define the backpropagation algorithm\n",
        "  def backprop(self, a_d, lr, optimizer, weight_decay=0):\n",
        "    if self.activation_d:\n",
        "      z_d = np.multiply(self.activation_d(self.z),a_d)\n",
        "    else:\n",
        "      z_d = a_d\n",
        "\n",
        "    w_d = np.dot(self.a_prev.T,z_d) + weight_decay * self.weights\n",
        "    b_d = np.sum(z_d,axis=0,keepdims=True)\n",
        "    a_prev_d = np.dot(z_d,self.weights.T)\n",
        "\n",
        "    if optimizer == 'sgd':\n",
        "            self.sgd(w_d, b_d, lr)\n",
        "    elif optimizer == 'momentum':\n",
        "        self.momentum_gd(w_d, b_d, lr)\n",
        "    elif optimizer == 'nesterov':\n",
        "        self.nesterov_gd(w_d, b_d, lr)\n",
        "    elif optimizer == 'rmsprop':\n",
        "        self.rmsprop(w_d, b_d, lr)\n",
        "    elif optimizer == 'adam':\n",
        "        self.adam(w_d, b_d, lr)\n",
        "    elif optimizer == 'nadam':\n",
        "        self.nadam(w_d, b_d, lr)\n",
        "    else:\n",
        "        raise ValueError(f\"Unknown optimizer: {optimizer}\")\n",
        "\n",
        "    return a_prev_d\n",
        "\n"
      ],
      "metadata": {
        "id": "unctqsMkTBG9"
      },
      "execution_count": 11,
      "outputs": []
    },
    {
      "cell_type": "markdown",
      "source": [
        "# Question 3"
      ],
      "metadata": {
        "id": "LCL5m0i0dwpD"
      }
    },
    {
      "cell_type": "markdown",
      "source": [
        "Implement backpropagation algorithm"
      ],
      "metadata": {
        "id": "0zuu3PVzf-mG"
      }
    },
    {
      "cell_type": "markdown",
      "source": [
        "# Question 4,5,6\n"
      ],
      "metadata": {
        "id": "sdR76u8Ctobq"
      }
    },
    {
      "cell_type": "markdown",
      "source": [
        "Training different neural entwrok models while using wandb for hyperparamter tuning to find the best performing combinations."
      ],
      "metadata": {
        "id": "DxOIPueEffSa"
      }
    },
    {
      "cell_type": "code",
      "source": [
        "#setting 10%of the training data aside for validation\n",
        "from sklearn.model_selection import train_test_split\n",
        "\n",
        "x_train, x_val, y_train, y_val = train_test_split(x_train, y_train, test_size=0.1, random_state=0)"
      ],
      "metadata": {
        "id": "hx3F-1DUMdOF"
      },
      "execution_count": 12,
      "outputs": []
    },
    {
      "cell_type": "markdown",
      "source": [
        "Setting up the strategy and different parameter values to be analyzed by wandb sweep experiments. Here, we use Bayesian optimization with the goal of maximizing validation accuracy."
      ],
      "metadata": {
        "id": "23TEGrN0g7nO"
      }
    },
    {
      "cell_type": "code",
      "source": [
        "#setting the sweep configuration for wandb\n",
        "import numpy as np\n",
        "\n",
        "sweep_config = {\n",
        "    'method': 'bayes',\n",
        "    'metric': {'name': 'val_accuracy', 'goal': 'maximize'},\n",
        "    'parameters': {\n",
        "        'epochs': {'values': [5, 10, 15]},\n",
        "        'num_hidden_layers': {'values': [3, 4, 5]},\n",
        "        'fc_layer_size': {'values': [32, 64, 128]},\n",
        "        'weight_decay': {'values': [0, 0.0005,0.005,0.05, 0.5]},\n",
        "        'lr': {'values': [1e-3, 1e-4,1e-5]},\n",
        "        'optimizer': {'values': ['sgd', 'momentum', 'nesterov', 'rmsprop', 'adam', 'nadam']},\n",
        "        'batch_size': {'values': [16, 32, 64]},\n",
        "        'weight_init': {'values': ['random', 'xavier']},\n",
        "        'activation': {'values': ['sigmoid', 'tanh', 'relu']}\n",
        "    }\n",
        "}\n",
        "\n",
        "sweep_id = wandb.sweep(sweep_config, project=\"neural-network-hyperparam-tuning\")\n",
        "\n",
        "#defining accuracy metric to measure the model performance\n",
        "def accuracy(y_true, y_pred):\n",
        "    return np.mean(np.argmax(y_true, axis=1) == np.argmax(y_pred, axis=1))\n",
        "\n",
        "\n",
        "\n"
      ],
      "metadata": {
        "colab": {
          "base_uri": "https://localhost:8080/"
        },
        "id": "Vo5RK_mo4PZD",
        "outputId": "b5b76733-8bf6-4fba-f17e-42fe6d5c51b0"
      },
      "execution_count": 13,
      "outputs": [
        {
          "output_type": "stream",
          "name": "stdout",
          "text": [
            "Create sweep with ID: klzawh2p\n",
            "Sweep URL: https://wandb.ai/ma24m003-iit-madras/neural-network-hyperparam-tuning/sweeps/klzawh2p\n"
          ]
        }
      ]
    },
    {
      "cell_type": "markdown",
      "source": [
        "Now, we train the neural networks with different hyperparameter values on the training set. After each epoch, we analyze the performance of the model on the validation set and at the end after all the epochs of training the model we look at the performance on the test dataset. This wandb sweep is run with count=100 which will evaluate 100 different combinations of hyperparameters."
      ],
      "metadata": {
        "id": "gwzYzgvKh9Tg"
      }
    },
    {
      "cell_type": "code",
      "source": [
        "#train the neural network with categorical cross entropy loss\n",
        "\n",
        "def train_network(config=None):\n",
        "    with wandb.init(config=config, project=\"neural-network-hyperparam-tuning\"):\n",
        "        config = wandb.config\n",
        "\n",
        "        #set the model name using all the parameter values\n",
        "        run_name = (f\"hl_{config['num_hidden_layers']}_bs_{config['batch_size']}_ac_{config['activation']}_\"\n",
        "            f\"fc_{config['fc_layer_size']}_lr_{config['lr']}_opt_{config['optimizer']}_\"\n",
        "            f\"wd_{config['weight_decay']}_wi_{config['weight_init']}_ep_{config['epochs']}\")\n",
        "        wandb.run.name = run_name\n",
        "\n",
        "        #initialize the 1st input layer\n",
        "        layers = [\n",
        "            layer(784, config.fc_layer_size, config.activation, config.weight_init)\n",
        "        ]\n",
        "\n",
        "\n",
        "        #build the subsequent hidden layers and add the last outputlayer\n",
        "        for _ in range(config.num_hidden_layers - 1):\n",
        "            layers.append(layer(config.fc_layer_size, config.fc_layer_size, config.activation, config.weight_init))\n",
        "        layers.append(layer(config.fc_layer_size, 10, \"softmax\", config.weight_init))\n",
        "\n",
        "        num_samples = x_train.shape[0]\n",
        "\n",
        "        #train over epochs\n",
        "        for epoch in range(config.epochs):\n",
        "            shuffled_indices = np.random.permutation(num_samples)\n",
        "            x_train_shuffled = x_train[shuffled_indices]\n",
        "            y_train_shuffled = y_train[shuffled_indices]\n",
        "\n",
        "            epoch_loss = 0\n",
        "            epoch_acc = 0\n",
        "\n",
        "            #iterate over batches\n",
        "            for start in range(0, num_samples, config.batch_size):\n",
        "                end = min(start + config.batch_size, num_samples)\n",
        "                x_batch = x_train_shuffled[start:end]\n",
        "                y_batch = y_train_shuffled[start:end]\n",
        "\n",
        "                #forward propagation\n",
        "                a = x_batch\n",
        "                for l in layers:\n",
        "                    a = l.forward(a)\n",
        "\n",
        "                #calculate loss and accuracy\n",
        "                loss = categorical_cross_entropy(y_batch, a,layers, config.weight_decay)\n",
        "                acc = accuracy(y_batch, a)\n",
        "\n",
        "                epoch_loss += loss\n",
        "                epoch_acc += acc\n",
        "\n",
        "                #backward propagation\n",
        "                a_d = a - y_batch\n",
        "                for l in reversed(layers):\n",
        "                    a_d = l.backprop(a_d, config.lr, config.optimizer, config.weight_decay)\n",
        "\n",
        "            num_batches = max(1, num_samples // config.batch_size)\n",
        "            avg_loss = epoch_loss / num_batches\n",
        "            avg_acc = epoch_acc / num_batches\n",
        "\n",
        "            #calculate the validation loss and accuracy for the epoch\n",
        "            a_val = x_val\n",
        "            for l in layers:\n",
        "                a_val = l.forward(a_val)\n",
        "\n",
        "            val_loss = categorical_cross_entropy(y_val, a_val, layers, config.weight_decay)\n",
        "            val_acc = accuracy(y_val, a_val)\n",
        "\n",
        "            print(f\"Epoch {epoch + 1}, Loss: {avg_loss}, Accuracy: {avg_acc}, val_loss: {val_loss}, val_accuracy: {val_acc}\")\n",
        "\n",
        "            wandb.log({\"epoch\": epoch + 1, \"loss\": avg_loss, \"accuracy\": avg_acc,\n",
        "                       \"val_loss\": val_loss, \"val_accuracy\": val_acc})\n",
        "\n",
        "        #After training, evaluate the model on the test dataset\n",
        "        a_test = x_test\n",
        "        for l in layers:\n",
        "            a_test = l.forward(a_test)\n",
        "\n",
        "        test_loss = categorical_cross_entropy(y_test, a_test,layers, config.weight_decay)\n",
        "        test_acc = accuracy(y_test, a_test)\n",
        "        print(f\"Test Loss: {test_loss}, Test Accuracy: {test_acc}\")\n",
        "\n",
        "        wandb.log({\"test_loss\": test_loss, \"test_accuracy\": test_acc})\n",
        "\n",
        "\n",
        "        #plot the confusion matrices\n",
        "        y_pred = np.argmax(a_test, axis=1)\n",
        "        y_true = np.argmax(y_test, axis=1)\n",
        "        cm = confusion_matrix(y_true, y_pred)\n",
        "\n",
        "        plt.figure(figsize=(8, 6))\n",
        "        sns.heatmap(cm, annot=True, fmt=\"d\", cmap=\"Blues\", xticklabels=range(10), yticklabels=range(10))\n",
        "        plt.xlabel(\"Predicted\")\n",
        "        plt.ylabel(\"True\")\n",
        "        plt.title(\"Confusion Matrix\")\n",
        "\n",
        "        wandb.log({\"confusion_matrix\": wandb.Image(plt)})\n",
        "        plt.close()\n",
        "\n",
        "\n",
        "\n",
        "x_train = x_train.reshape(x_train.shape[0], -1)\n",
        "x_val = x_val.reshape(x_val.shape[0], -1)\n",
        "x_test = x_test.reshape(x_test.shape[0], -1)\n",
        "\n",
        "wandb.agent(sweep_id, train_network, count=5) #used count=100 for the main sweep\n",
        "\n",
        "wandb.finish()\n"
      ],
      "metadata": {
        "id": "xMKyD5_B-vxo",
        "colab": {
          "base_uri": "https://localhost:8080/",
          "height": 1000
        },
        "outputId": "84785bea-deea-4324-f89c-c744af688c88"
      },
      "execution_count": 14,
      "outputs": [
        {
          "output_type": "stream",
          "name": "stderr",
          "text": [
            "\u001b[34m\u001b[1mwandb\u001b[0m: Agent Starting Run: ui9eqv5e with config:\n",
            "\u001b[34m\u001b[1mwandb\u001b[0m: \tactivation: sigmoid\n",
            "\u001b[34m\u001b[1mwandb\u001b[0m: \tbatch_size: 32\n",
            "\u001b[34m\u001b[1mwandb\u001b[0m: \tepochs: 15\n",
            "\u001b[34m\u001b[1mwandb\u001b[0m: \tfc_layer_size: 64\n",
            "\u001b[34m\u001b[1mwandb\u001b[0m: \tlr: 1e-05\n",
            "\u001b[34m\u001b[1mwandb\u001b[0m: \tnum_hidden_layers: 4\n",
            "\u001b[34m\u001b[1mwandb\u001b[0m: \toptimizer: adam\n",
            "\u001b[34m\u001b[1mwandb\u001b[0m: \tweight_decay: 0.5\n",
            "\u001b[34m\u001b[1mwandb\u001b[0m: \tweight_init: xavier\n"
          ]
        },
        {
          "output_type": "display_data",
          "data": {
            "text/plain": [
              "<IPython.core.display.HTML object>"
            ],
            "text/html": [
              "Ignoring project 'neural-network-hyperparam-tuning' when running a sweep."
            ]
          },
          "metadata": {}
        },
        {
          "output_type": "display_data",
          "data": {
            "text/plain": [
              "<IPython.core.display.HTML object>"
            ],
            "text/html": [
              "Tracking run with wandb version 0.19.8"
            ]
          },
          "metadata": {}
        },
        {
          "output_type": "display_data",
          "data": {
            "text/plain": [
              "<IPython.core.display.HTML object>"
            ],
            "text/html": [
              "Run data is saved locally in <code>/content/wandb/run-20250317_052510-ui9eqv5e</code>"
            ]
          },
          "metadata": {}
        },
        {
          "output_type": "display_data",
          "data": {
            "text/plain": [
              "<IPython.core.display.HTML object>"
            ],
            "text/html": [
              "Syncing run <strong><a href='https://wandb.ai/ma24m003-iit-madras/neural-network-hyperparam-tuning/runs/ui9eqv5e' target=\"_blank\">dauntless-sweep-1</a></strong> to <a href='https://wandb.ai/ma24m003-iit-madras/neural-network-hyperparam-tuning' target=\"_blank\">Weights & Biases</a> (<a href='https://wandb.me/developer-guide' target=\"_blank\">docs</a>)<br>Sweep page: <a href='https://wandb.ai/ma24m003-iit-madras/neural-network-hyperparam-tuning/sweeps/klzawh2p' target=\"_blank\">https://wandb.ai/ma24m003-iit-madras/neural-network-hyperparam-tuning/sweeps/klzawh2p</a>"
            ]
          },
          "metadata": {}
        },
        {
          "output_type": "display_data",
          "data": {
            "text/plain": [
              "<IPython.core.display.HTML object>"
            ],
            "text/html": [
              " View project at <a href='https://wandb.ai/ma24m003-iit-madras/neural-network-hyperparam-tuning' target=\"_blank\">https://wandb.ai/ma24m003-iit-madras/neural-network-hyperparam-tuning</a>"
            ]
          },
          "metadata": {}
        },
        {
          "output_type": "display_data",
          "data": {
            "text/plain": [
              "<IPython.core.display.HTML object>"
            ],
            "text/html": [
              " View sweep at <a href='https://wandb.ai/ma24m003-iit-madras/neural-network-hyperparam-tuning/sweeps/klzawh2p' target=\"_blank\">https://wandb.ai/ma24m003-iit-madras/neural-network-hyperparam-tuning/sweeps/klzawh2p</a>"
            ]
          },
          "metadata": {}
        },
        {
          "output_type": "display_data",
          "data": {
            "text/plain": [
              "<IPython.core.display.HTML object>"
            ],
            "text/html": [
              " View run at <a href='https://wandb.ai/ma24m003-iit-madras/neural-network-hyperparam-tuning/runs/ui9eqv5e' target=\"_blank\">https://wandb.ai/ma24m003-iit-madras/neural-network-hyperparam-tuning/runs/ui9eqv5e</a>"
            ]
          },
          "metadata": {}
        },
        {
          "output_type": "stream",
          "name": "stdout",
          "text": [
            "Epoch 1, Loss: 119.63228727027517, Accuracy: 0.10036307053941909, val_loss: 104.36939633330229, val_accuracy: 0.09716666666666667\n",
            "Epoch 2, Loss: 92.72926228323067, Accuracy: 0.10034454653230587, val_loss: 82.26552526061455, val_accuracy: 0.09716666666666667\n",
            "Epoch 3, Loss: 73.94749410093362, Accuracy: 0.10040011855364553, val_loss: 66.34757102588948, val_accuracy: 0.09716666666666667\n",
            "Epoch 4, Loss: 60.13740927242985, Accuracy: 0.10038159454653231, val_loss: 54.378571766658624, val_accuracy: 0.09716666666666667\n",
            "Epoch 5, Loss: 49.56619158772756, Accuracy: 0.10097436277415531, val_loss: 45.05799652459135, val_accuracy: 0.09666666666666666\n",
            "Epoch 6, Loss: 41.214284005793935, Accuracy: 0.09969620628334322, val_loss: 37.5781401653212, val_accuracy: 0.0995\n",
            "Epoch 7, Loss: 34.451676887772685, Accuracy: 0.09852919383521043, val_loss: 31.484789231895462, val_accuracy: 0.09633333333333334\n",
            "Epoch 8, Loss: 28.923744598348673, Accuracy: 0.10067797866034381, val_loss: 26.485894679729977, val_accuracy: 0.09716666666666667\n",
            "Epoch 9, Loss: 24.38643900010887, Accuracy: 0.09873295791345583, val_loss: 22.39223001196675, val_accuracy: 0.09716666666666667\n",
            "Epoch 10, Loss: 20.67777957437057, Accuracy: 0.09712136929460581, val_loss: 19.04980905396131, val_accuracy: 0.09716666666666667\n",
            "Epoch 11, Loss: 17.65247069602664, Accuracy: 0.09914048606994665, val_loss: 16.330717444599927, val_accuracy: 0.09716666666666667\n",
            "Epoch 12, Loss: 15.202742918508019, Accuracy: 0.09851066982809721, val_loss: 14.135263135302282, val_accuracy: 0.09716666666666667\n",
            "Epoch 13, Loss: 13.228830341791394, Accuracy: 0.09986292234736219, val_loss: 12.370519081767876, val_accuracy: 0.09716666666666667\n",
            "Epoch 14, Loss: 11.643381440403214, Accuracy: 0.1001778304682869, val_loss: 10.95321256438298, val_accuracy: 0.09716666666666667\n",
            "Epoch 15, Loss: 10.371294546185368, Accuracy: 0.09943687018375814, val_loss: 9.82058521802166, val_accuracy: 0.09716666666666667\n",
            "Test Loss: 9.820377760292965, Test Accuracy: 0.1\n"
          ]
        },
        {
          "output_type": "display_data",
          "data": {
            "text/plain": [
              "<IPython.core.display.HTML object>"
            ],
            "text/html": []
          },
          "metadata": {}
        },
        {
          "output_type": "display_data",
          "data": {
            "text/plain": [
              "<IPython.core.display.HTML object>"
            ],
            "text/html": [
              "<br>    <style><br>        .wandb-row {<br>            display: flex;<br>            flex-direction: row;<br>            flex-wrap: wrap;<br>            justify-content: flex-start;<br>            width: 100%;<br>        }<br>        .wandb-col {<br>            display: flex;<br>            flex-direction: column;<br>            flex-basis: 100%;<br>            flex: 1;<br>            padding: 10px;<br>        }<br>    </style><br><div class=\"wandb-row\"><div class=\"wandb-col\"><h3>Run history:</h3><br/><table class=\"wandb\"><tr><td>accuracy</td><td>▇▇▇▇█▆▄▇▄▁▅▄▆▇▅</td></tr><tr><td>epoch</td><td>▁▁▂▃▃▃▄▅▅▅▆▇▇▇█</td></tr><tr><td>loss</td><td>█▆▅▄▄▃▃▂▂▂▁▁▁▁▁</td></tr><tr><td>test_accuracy</td><td>▁</td></tr><tr><td>test_loss</td><td>▁</td></tr><tr><td>val_accuracy</td><td>▃▃▃▃▂█▁▃▃▃▃▃▃▃▃</td></tr><tr><td>val_loss</td><td>█▆▅▄▄▃▃▂▂▂▁▁▁▁▁</td></tr></table><br/></div><div class=\"wandb-col\"><h3>Run summary:</h3><br/><table class=\"wandb\"><tr><td>accuracy</td><td>0.09944</td></tr><tr><td>epoch</td><td>15</td></tr><tr><td>loss</td><td>10.37129</td></tr><tr><td>test_accuracy</td><td>0.1</td></tr><tr><td>test_loss</td><td>9.82038</td></tr><tr><td>val_accuracy</td><td>0.09717</td></tr><tr><td>val_loss</td><td>9.82059</td></tr></table><br/></div></div>"
            ]
          },
          "metadata": {}
        },
        {
          "output_type": "display_data",
          "data": {
            "text/plain": [
              "<IPython.core.display.HTML object>"
            ],
            "text/html": [
              " View run <strong style=\"color:#cdcd00\">hl_4_bs_32_ac_sigmoid_fc_64_lr_1e-05_opt_adam_wd_0.5_wi_xavier_ep_15</strong> at: <a href='https://wandb.ai/ma24m003-iit-madras/neural-network-hyperparam-tuning/runs/ui9eqv5e' target=\"_blank\">https://wandb.ai/ma24m003-iit-madras/neural-network-hyperparam-tuning/runs/ui9eqv5e</a><br> View project at: <a href='https://wandb.ai/ma24m003-iit-madras/neural-network-hyperparam-tuning' target=\"_blank\">https://wandb.ai/ma24m003-iit-madras/neural-network-hyperparam-tuning</a><br>Synced 5 W&B file(s), 1 media file(s), 0 artifact file(s) and 0 other file(s)"
            ]
          },
          "metadata": {}
        },
        {
          "output_type": "display_data",
          "data": {
            "text/plain": [
              "<IPython.core.display.HTML object>"
            ],
            "text/html": [
              "Find logs at: <code>./wandb/run-20250317_052510-ui9eqv5e/logs</code>"
            ]
          },
          "metadata": {}
        },
        {
          "output_type": "stream",
          "name": "stderr",
          "text": [
            "\u001b[34m\u001b[1mwandb\u001b[0m: Agent Starting Run: 88g3sr6b with config:\n",
            "\u001b[34m\u001b[1mwandb\u001b[0m: \tactivation: tanh\n",
            "\u001b[34m\u001b[1mwandb\u001b[0m: \tbatch_size: 32\n",
            "\u001b[34m\u001b[1mwandb\u001b[0m: \tepochs: 5\n",
            "\u001b[34m\u001b[1mwandb\u001b[0m: \tfc_layer_size: 64\n",
            "\u001b[34m\u001b[1mwandb\u001b[0m: \tlr: 0.0001\n",
            "\u001b[34m\u001b[1mwandb\u001b[0m: \tnum_hidden_layers: 4\n",
            "\u001b[34m\u001b[1mwandb\u001b[0m: \toptimizer: adam\n",
            "\u001b[34m\u001b[1mwandb\u001b[0m: \tweight_decay: 0.05\n",
            "\u001b[34m\u001b[1mwandb\u001b[0m: \tweight_init: random\n"
          ]
        },
        {
          "output_type": "display_data",
          "data": {
            "text/plain": [
              "<IPython.core.display.HTML object>"
            ],
            "text/html": [
              "Ignoring project 'neural-network-hyperparam-tuning' when running a sweep."
            ]
          },
          "metadata": {}
        },
        {
          "output_type": "display_data",
          "data": {
            "text/plain": [
              "<IPython.core.display.HTML object>"
            ],
            "text/html": [
              "Tracking run with wandb version 0.19.8"
            ]
          },
          "metadata": {}
        },
        {
          "output_type": "display_data",
          "data": {
            "text/plain": [
              "<IPython.core.display.HTML object>"
            ],
            "text/html": [
              "Run data is saved locally in <code>/content/wandb/run-20250317_052923-88g3sr6b</code>"
            ]
          },
          "metadata": {}
        },
        {
          "output_type": "display_data",
          "data": {
            "text/plain": [
              "<IPython.core.display.HTML object>"
            ],
            "text/html": [
              "Syncing run <strong><a href='https://wandb.ai/ma24m003-iit-madras/neural-network-hyperparam-tuning/runs/88g3sr6b' target=\"_blank\">lucky-sweep-2</a></strong> to <a href='https://wandb.ai/ma24m003-iit-madras/neural-network-hyperparam-tuning' target=\"_blank\">Weights & Biases</a> (<a href='https://wandb.me/developer-guide' target=\"_blank\">docs</a>)<br>Sweep page: <a href='https://wandb.ai/ma24m003-iit-madras/neural-network-hyperparam-tuning/sweeps/klzawh2p' target=\"_blank\">https://wandb.ai/ma24m003-iit-madras/neural-network-hyperparam-tuning/sweeps/klzawh2p</a>"
            ]
          },
          "metadata": {}
        },
        {
          "output_type": "display_data",
          "data": {
            "text/plain": [
              "<IPython.core.display.HTML object>"
            ],
            "text/html": [
              " View project at <a href='https://wandb.ai/ma24m003-iit-madras/neural-network-hyperparam-tuning' target=\"_blank\">https://wandb.ai/ma24m003-iit-madras/neural-network-hyperparam-tuning</a>"
            ]
          },
          "metadata": {}
        },
        {
          "output_type": "display_data",
          "data": {
            "text/plain": [
              "<IPython.core.display.HTML object>"
            ],
            "text/html": [
              " View sweep at <a href='https://wandb.ai/ma24m003-iit-madras/neural-network-hyperparam-tuning/sweeps/klzawh2p' target=\"_blank\">https://wandb.ai/ma24m003-iit-madras/neural-network-hyperparam-tuning/sweeps/klzawh2p</a>"
            ]
          },
          "metadata": {}
        },
        {
          "output_type": "display_data",
          "data": {
            "text/plain": [
              "<IPython.core.display.HTML object>"
            ],
            "text/html": [
              " View run at <a href='https://wandb.ai/ma24m003-iit-madras/neural-network-hyperparam-tuning/runs/88g3sr6b' target=\"_blank\">https://wandb.ai/ma24m003-iit-madras/neural-network-hyperparam-tuning/runs/88g3sr6b</a>"
            ]
          },
          "metadata": {}
        },
        {
          "output_type": "stream",
          "name": "stdout",
          "text": [
            "Epoch 1, Loss: 3150.3099568294733, Accuracy: 0.2298273562537048, val_loss: 3150.292324883122, val_accuracy: 0.35983333333333334\n",
            "Epoch 2, Loss: 3157.611712573876, Accuracy: 0.44153823355068167, val_loss: 3161.3293981962975, val_accuracy: 0.489\n",
            "Epoch 3, Loss: 3168.28878535192, Accuracy: 0.5271376704208655, val_loss: 3171.75762837136, val_accuracy: 0.5435\n",
            "Epoch 4, Loss: 3179.111820979293, Accuracy: 0.5564241256668643, val_loss: 3183.0849651257226, val_accuracy: 0.565\n",
            "Epoch 5, Loss: 3191.5429132065296, Accuracy: 0.5703912270302312, val_loss: 3196.6279799519175, val_accuracy: 0.5616666666666666\n",
            "Test Loss: 3196.7034484481505, Test Accuracy: 0.5619\n"
          ]
        },
        {
          "output_type": "display_data",
          "data": {
            "text/plain": [
              "<IPython.core.display.HTML object>"
            ],
            "text/html": []
          },
          "metadata": {}
        },
        {
          "output_type": "display_data",
          "data": {
            "text/plain": [
              "<IPython.core.display.HTML object>"
            ],
            "text/html": [
              "<br>    <style><br>        .wandb-row {<br>            display: flex;<br>            flex-direction: row;<br>            flex-wrap: wrap;<br>            justify-content: flex-start;<br>            width: 100%;<br>        }<br>        .wandb-col {<br>            display: flex;<br>            flex-direction: column;<br>            flex-basis: 100%;<br>            flex: 1;<br>            padding: 10px;<br>        }<br>    </style><br><div class=\"wandb-row\"><div class=\"wandb-col\"><h3>Run history:</h3><br/><table class=\"wandb\"><tr><td>accuracy</td><td>▁▅▇██</td></tr><tr><td>epoch</td><td>▁▃▅▆█</td></tr><tr><td>loss</td><td>▁▂▄▆█</td></tr><tr><td>test_accuracy</td><td>▁</td></tr><tr><td>test_loss</td><td>▁</td></tr><tr><td>val_accuracy</td><td>▁▅▇██</td></tr><tr><td>val_loss</td><td>▁▃▄▆█</td></tr></table><br/></div><div class=\"wandb-col\"><h3>Run summary:</h3><br/><table class=\"wandb\"><tr><td>accuracy</td><td>0.57039</td></tr><tr><td>epoch</td><td>5</td></tr><tr><td>loss</td><td>3191.54291</td></tr><tr><td>test_accuracy</td><td>0.5619</td></tr><tr><td>test_loss</td><td>3196.70345</td></tr><tr><td>val_accuracy</td><td>0.56167</td></tr><tr><td>val_loss</td><td>3196.62798</td></tr></table><br/></div></div>"
            ]
          },
          "metadata": {}
        },
        {
          "output_type": "display_data",
          "data": {
            "text/plain": [
              "<IPython.core.display.HTML object>"
            ],
            "text/html": [
              " View run <strong style=\"color:#cdcd00\">hl_4_bs_32_ac_tanh_fc_64_lr_0.0001_opt_adam_wd_0.05_wi_random_ep_5</strong> at: <a href='https://wandb.ai/ma24m003-iit-madras/neural-network-hyperparam-tuning/runs/88g3sr6b' target=\"_blank\">https://wandb.ai/ma24m003-iit-madras/neural-network-hyperparam-tuning/runs/88g3sr6b</a><br> View project at: <a href='https://wandb.ai/ma24m003-iit-madras/neural-network-hyperparam-tuning' target=\"_blank\">https://wandb.ai/ma24m003-iit-madras/neural-network-hyperparam-tuning</a><br>Synced 5 W&B file(s), 1 media file(s), 0 artifact file(s) and 0 other file(s)"
            ]
          },
          "metadata": {}
        },
        {
          "output_type": "display_data",
          "data": {
            "text/plain": [
              "<IPython.core.display.HTML object>"
            ],
            "text/html": [
              "Find logs at: <code>./wandb/run-20250317_052923-88g3sr6b/logs</code>"
            ]
          },
          "metadata": {}
        },
        {
          "output_type": "stream",
          "name": "stderr",
          "text": [
            "\u001b[34m\u001b[1mwandb\u001b[0m: Agent Starting Run: x9a1lehe with config:\n",
            "\u001b[34m\u001b[1mwandb\u001b[0m: \tactivation: tanh\n",
            "\u001b[34m\u001b[1mwandb\u001b[0m: \tbatch_size: 64\n",
            "\u001b[34m\u001b[1mwandb\u001b[0m: \tepochs: 10\n",
            "\u001b[34m\u001b[1mwandb\u001b[0m: \tfc_layer_size: 128\n",
            "\u001b[34m\u001b[1mwandb\u001b[0m: \tlr: 1e-05\n",
            "\u001b[34m\u001b[1mwandb\u001b[0m: \tnum_hidden_layers: 5\n",
            "\u001b[34m\u001b[1mwandb\u001b[0m: \toptimizer: momentum\n",
            "\u001b[34m\u001b[1mwandb\u001b[0m: \tweight_decay: 0.005\n",
            "\u001b[34m\u001b[1mwandb\u001b[0m: \tweight_init: xavier\n"
          ]
        },
        {
          "output_type": "display_data",
          "data": {
            "text/plain": [
              "<IPython.core.display.HTML object>"
            ],
            "text/html": [
              "Ignoring project 'neural-network-hyperparam-tuning' when running a sweep."
            ]
          },
          "metadata": {}
        },
        {
          "output_type": "display_data",
          "data": {
            "text/plain": [
              "<IPython.core.display.HTML object>"
            ],
            "text/html": [
              "Tracking run with wandb version 0.19.8"
            ]
          },
          "metadata": {}
        },
        {
          "output_type": "display_data",
          "data": {
            "text/plain": [
              "<IPython.core.display.HTML object>"
            ],
            "text/html": [
              "Run data is saved locally in <code>/content/wandb/run-20250317_053029-x9a1lehe</code>"
            ]
          },
          "metadata": {}
        },
        {
          "output_type": "display_data",
          "data": {
            "text/plain": [
              "<IPython.core.display.HTML object>"
            ],
            "text/html": [
              "Syncing run <strong><a href='https://wandb.ai/ma24m003-iit-madras/neural-network-hyperparam-tuning/runs/x9a1lehe' target=\"_blank\">apricot-sweep-3</a></strong> to <a href='https://wandb.ai/ma24m003-iit-madras/neural-network-hyperparam-tuning' target=\"_blank\">Weights & Biases</a> (<a href='https://wandb.me/developer-guide' target=\"_blank\">docs</a>)<br>Sweep page: <a href='https://wandb.ai/ma24m003-iit-madras/neural-network-hyperparam-tuning/sweeps/klzawh2p' target=\"_blank\">https://wandb.ai/ma24m003-iit-madras/neural-network-hyperparam-tuning/sweeps/klzawh2p</a>"
            ]
          },
          "metadata": {}
        },
        {
          "output_type": "display_data",
          "data": {
            "text/plain": [
              "<IPython.core.display.HTML object>"
            ],
            "text/html": [
              " View project at <a href='https://wandb.ai/ma24m003-iit-madras/neural-network-hyperparam-tuning' target=\"_blank\">https://wandb.ai/ma24m003-iit-madras/neural-network-hyperparam-tuning</a>"
            ]
          },
          "metadata": {}
        },
        {
          "output_type": "display_data",
          "data": {
            "text/plain": [
              "<IPython.core.display.HTML object>"
            ],
            "text/html": [
              " View sweep at <a href='https://wandb.ai/ma24m003-iit-madras/neural-network-hyperparam-tuning/sweeps/klzawh2p' target=\"_blank\">https://wandb.ai/ma24m003-iit-madras/neural-network-hyperparam-tuning/sweeps/klzawh2p</a>"
            ]
          },
          "metadata": {}
        },
        {
          "output_type": "display_data",
          "data": {
            "text/plain": [
              "<IPython.core.display.HTML object>"
            ],
            "text/html": [
              " View run at <a href='https://wandb.ai/ma24m003-iit-madras/neural-network-hyperparam-tuning/runs/x9a1lehe' target=\"_blank\">https://wandb.ai/ma24m003-iit-madras/neural-network-hyperparam-tuning/runs/x9a1lehe</a>"
            ]
          },
          "metadata": {}
        },
        {
          "output_type": "stream",
          "name": "stdout",
          "text": [
            "Epoch 1, Loss: 4.603485398295512, Accuracy: 0.6042902332937921, val_loss: 4.60457421741601, val_accuracy: 0.6908333333333333\n",
            "Epoch 2, Loss: 4.968078334061702, Accuracy: 0.7260589659944643, val_loss: 5.420082403254692, val_accuracy: 0.7613333333333333\n",
            "Epoch 3, Loss: 6.188123723048162, Accuracy: 0.7659895215500198, val_loss: 7.119690127903305, val_accuracy: 0.7751666666666667\n",
            "Epoch 4, Loss: 8.343038868325555, Accuracy: 0.7854265519968368, val_loss: 9.761132157464406, val_accuracy: 0.7985\n",
            "Epoch 5, Loss: 11.553906054062457, Accuracy: 0.7967205417160933, val_loss: 13.487306817126495, val_accuracy: 0.7911666666666667\n",
            "Epoch 6, Loss: 15.625610663902865, Accuracy: 0.7967143633847371, val_loss: 18.201140222548105, val_accuracy: 0.7916666666666666\n",
            "Epoch 7, Loss: 22.01708811187934, Accuracy: 0.7898255239224989, val_loss: 25.537263366086247, val_accuracy: 0.797\n",
            "Epoch 8, Loss: 30.737145367544706, Accuracy: 0.7865324733096085, val_loss: 37.05745630496104, val_accuracy: 0.791\n",
            "Epoch 9, Loss: 43.71136035736586, Accuracy: 0.7954107354685647, val_loss: 50.334044089393664, val_accuracy: 0.7986666666666666\n",
            "Epoch 10, Loss: 59.379782969750536, Accuracy: 0.7938970442862792, val_loss: 69.64351233993301, val_accuracy: 0.7883333333333333\n",
            "Test Loss: 69.82623692385245, Test Accuracy: 0.7418\n"
          ]
        },
        {
          "output_type": "display_data",
          "data": {
            "text/plain": [
              "<IPython.core.display.HTML object>"
            ],
            "text/html": []
          },
          "metadata": {}
        },
        {
          "output_type": "display_data",
          "data": {
            "text/plain": [
              "<IPython.core.display.HTML object>"
            ],
            "text/html": [
              "<br>    <style><br>        .wandb-row {<br>            display: flex;<br>            flex-direction: row;<br>            flex-wrap: wrap;<br>            justify-content: flex-start;<br>            width: 100%;<br>        }<br>        .wandb-col {<br>            display: flex;<br>            flex-direction: column;<br>            flex-basis: 100%;<br>            flex: 1;<br>            padding: 10px;<br>        }<br>    </style><br><div class=\"wandb-row\"><div class=\"wandb-col\"><h3>Run history:</h3><br/><table class=\"wandb\"><tr><td>accuracy</td><td>▁▅▇███████</td></tr><tr><td>epoch</td><td>▁▂▃▃▄▅▆▆▇█</td></tr><tr><td>loss</td><td>▁▁▁▁▂▂▃▄▆█</td></tr><tr><td>test_accuracy</td><td>▁</td></tr><tr><td>test_loss</td><td>▁</td></tr><tr><td>val_accuracy</td><td>▁▆▆██████▇</td></tr><tr><td>val_loss</td><td>▁▁▁▂▂▂▃▄▆█</td></tr></table><br/></div><div class=\"wandb-col\"><h3>Run summary:</h3><br/><table class=\"wandb\"><tr><td>accuracy</td><td>0.7939</td></tr><tr><td>epoch</td><td>10</td></tr><tr><td>loss</td><td>59.37978</td></tr><tr><td>test_accuracy</td><td>0.7418</td></tr><tr><td>test_loss</td><td>69.82624</td></tr><tr><td>val_accuracy</td><td>0.78833</td></tr><tr><td>val_loss</td><td>69.64351</td></tr></table><br/></div></div>"
            ]
          },
          "metadata": {}
        },
        {
          "output_type": "display_data",
          "data": {
            "text/plain": [
              "<IPython.core.display.HTML object>"
            ],
            "text/html": [
              " View run <strong style=\"color:#cdcd00\">hl_5_bs_64_ac_tanh_fc_128_lr_1e-05_opt_momentum_wd_0.005_wi_xavier_ep_10</strong> at: <a href='https://wandb.ai/ma24m003-iit-madras/neural-network-hyperparam-tuning/runs/x9a1lehe' target=\"_blank\">https://wandb.ai/ma24m003-iit-madras/neural-network-hyperparam-tuning/runs/x9a1lehe</a><br> View project at: <a href='https://wandb.ai/ma24m003-iit-madras/neural-network-hyperparam-tuning' target=\"_blank\">https://wandb.ai/ma24m003-iit-madras/neural-network-hyperparam-tuning</a><br>Synced 5 W&B file(s), 1 media file(s), 0 artifact file(s) and 0 other file(s)"
            ]
          },
          "metadata": {}
        },
        {
          "output_type": "display_data",
          "data": {
            "text/plain": [
              "<IPython.core.display.HTML object>"
            ],
            "text/html": [
              "Find logs at: <code>./wandb/run-20250317_053029-x9a1lehe/logs</code>"
            ]
          },
          "metadata": {}
        },
        {
          "output_type": "stream",
          "name": "stderr",
          "text": [
            "\u001b[34m\u001b[1mwandb\u001b[0m: Agent Starting Run: 2sc5p2gs with config:\n",
            "\u001b[34m\u001b[1mwandb\u001b[0m: \tactivation: sigmoid\n",
            "\u001b[34m\u001b[1mwandb\u001b[0m: \tbatch_size: 16\n",
            "\u001b[34m\u001b[1mwandb\u001b[0m: \tepochs: 10\n",
            "\u001b[34m\u001b[1mwandb\u001b[0m: \tfc_layer_size: 32\n",
            "\u001b[34m\u001b[1mwandb\u001b[0m: \tlr: 0.001\n",
            "\u001b[34m\u001b[1mwandb\u001b[0m: \tnum_hidden_layers: 3\n",
            "\u001b[34m\u001b[1mwandb\u001b[0m: \toptimizer: rmsprop\n",
            "\u001b[34m\u001b[1mwandb\u001b[0m: \tweight_decay: 0.05\n",
            "\u001b[34m\u001b[1mwandb\u001b[0m: \tweight_init: xavier\n"
          ]
        },
        {
          "output_type": "display_data",
          "data": {
            "text/plain": [
              "<IPython.core.display.HTML object>"
            ],
            "text/html": [
              "Ignoring project 'neural-network-hyperparam-tuning' when running a sweep."
            ]
          },
          "metadata": {}
        },
        {
          "output_type": "display_data",
          "data": {
            "text/plain": [
              "<IPython.core.display.HTML object>"
            ],
            "text/html": [
              "Tracking run with wandb version 0.19.8"
            ]
          },
          "metadata": {}
        },
        {
          "output_type": "display_data",
          "data": {
            "text/plain": [
              "<IPython.core.display.HTML object>"
            ],
            "text/html": [
              "Run data is saved locally in <code>/content/wandb/run-20250317_053225-2sc5p2gs</code>"
            ]
          },
          "metadata": {}
        },
        {
          "output_type": "display_data",
          "data": {
            "text/plain": [
              "<IPython.core.display.HTML object>"
            ],
            "text/html": [
              "Syncing run <strong><a href='https://wandb.ai/ma24m003-iit-madras/neural-network-hyperparam-tuning/runs/2sc5p2gs' target=\"_blank\">warm-sweep-4</a></strong> to <a href='https://wandb.ai/ma24m003-iit-madras/neural-network-hyperparam-tuning' target=\"_blank\">Weights & Biases</a> (<a href='https://wandb.me/developer-guide' target=\"_blank\">docs</a>)<br>Sweep page: <a href='https://wandb.ai/ma24m003-iit-madras/neural-network-hyperparam-tuning/sweeps/klzawh2p' target=\"_blank\">https://wandb.ai/ma24m003-iit-madras/neural-network-hyperparam-tuning/sweeps/klzawh2p</a>"
            ]
          },
          "metadata": {}
        },
        {
          "output_type": "display_data",
          "data": {
            "text/plain": [
              "<IPython.core.display.HTML object>"
            ],
            "text/html": [
              " View project at <a href='https://wandb.ai/ma24m003-iit-madras/neural-network-hyperparam-tuning' target=\"_blank\">https://wandb.ai/ma24m003-iit-madras/neural-network-hyperparam-tuning</a>"
            ]
          },
          "metadata": {}
        },
        {
          "output_type": "display_data",
          "data": {
            "text/plain": [
              "<IPython.core.display.HTML object>"
            ],
            "text/html": [
              " View sweep at <a href='https://wandb.ai/ma24m003-iit-madras/neural-network-hyperparam-tuning/sweeps/klzawh2p' target=\"_blank\">https://wandb.ai/ma24m003-iit-madras/neural-network-hyperparam-tuning/sweeps/klzawh2p</a>"
            ]
          },
          "metadata": {}
        },
        {
          "output_type": "display_data",
          "data": {
            "text/plain": [
              "<IPython.core.display.HTML object>"
            ],
            "text/html": [
              " View run at <a href='https://wandb.ai/ma24m003-iit-madras/neural-network-hyperparam-tuning/runs/2sc5p2gs' target=\"_blank\">https://wandb.ai/ma24m003-iit-madras/neural-network-hyperparam-tuning/runs/2sc5p2gs</a>"
            ]
          },
          "metadata": {}
        },
        {
          "output_type": "stream",
          "name": "stdout",
          "text": [
            "Epoch 1, Loss: 9.498775895832146, Accuracy: 0.5052962962962962, val_loss: 11.587957582425847, val_accuracy: 0.6196666666666667\n",
            "Epoch 2, Loss: 12.290151661479435, Accuracy: 0.664074074074074, val_loss: 12.803261663249806, val_accuracy: 0.6926666666666667\n",
            "Epoch 3, Loss: 13.096500856633847, Accuracy: 0.6949814814814815, val_loss: 13.301661830229307, val_accuracy: 0.721\n",
            "Epoch 4, Loss: 13.672726442011093, Accuracy: 0.7203148148148149, val_loss: 14.10567430324474, val_accuracy: 0.7493333333333333\n",
            "Epoch 5, Loss: 14.374886307811808, Accuracy: 0.7474814814814815, val_loss: 14.470137495572438, val_accuracy: 0.7405\n",
            "Epoch 6, Loss: 14.577364635473431, Accuracy: 0.7571111111111111, val_loss: 14.578090379335883, val_accuracy: 0.7645\n",
            "Epoch 7, Loss: 14.620098716637544, Accuracy: 0.7605925925925926, val_loss: 14.597236542917194, val_accuracy: 0.771\n",
            "Epoch 8, Loss: 14.672979930627704, Accuracy: 0.7633148148148148, val_loss: 14.717088127597801, val_accuracy: 0.7706666666666667\n",
            "Epoch 9, Loss: 14.70686970141297, Accuracy: 0.7641666666666667, val_loss: 14.635579038408235, val_accuracy: 0.7543333333333333\n",
            "Epoch 10, Loss: 14.712596874892647, Accuracy: 0.7651481481481481, val_loss: 14.660194485393575, val_accuracy: 0.7738333333333334\n",
            "Test Loss: 14.914661746287942, Test Accuracy: 0.6998\n"
          ]
        },
        {
          "output_type": "display_data",
          "data": {
            "text/plain": [
              "<IPython.core.display.HTML object>"
            ],
            "text/html": []
          },
          "metadata": {}
        },
        {
          "output_type": "display_data",
          "data": {
            "text/plain": [
              "<IPython.core.display.HTML object>"
            ],
            "text/html": [
              "<br>    <style><br>        .wandb-row {<br>            display: flex;<br>            flex-direction: row;<br>            flex-wrap: wrap;<br>            justify-content: flex-start;<br>            width: 100%;<br>        }<br>        .wandb-col {<br>            display: flex;<br>            flex-direction: column;<br>            flex-basis: 100%;<br>            flex: 1;<br>            padding: 10px;<br>        }<br>    </style><br><div class=\"wandb-row\"><div class=\"wandb-col\"><h3>Run history:</h3><br/><table class=\"wandb\"><tr><td>accuracy</td><td>▁▅▆▇██████</td></tr><tr><td>epoch</td><td>▁▂▃▃▄▅▆▆▇█</td></tr><tr><td>loss</td><td>▁▅▆▇██████</td></tr><tr><td>test_accuracy</td><td>▁</td></tr><tr><td>test_loss</td><td>▁</td></tr><tr><td>val_accuracy</td><td>▁▄▆▇▆███▇█</td></tr><tr><td>val_loss</td><td>▁▄▅▇▇█████</td></tr></table><br/></div><div class=\"wandb-col\"><h3>Run summary:</h3><br/><table class=\"wandb\"><tr><td>accuracy</td><td>0.76515</td></tr><tr><td>epoch</td><td>10</td></tr><tr><td>loss</td><td>14.7126</td></tr><tr><td>test_accuracy</td><td>0.6998</td></tr><tr><td>test_loss</td><td>14.91466</td></tr><tr><td>val_accuracy</td><td>0.77383</td></tr><tr><td>val_loss</td><td>14.66019</td></tr></table><br/></div></div>"
            ]
          },
          "metadata": {}
        },
        {
          "output_type": "display_data",
          "data": {
            "text/plain": [
              "<IPython.core.display.HTML object>"
            ],
            "text/html": [
              " View run <strong style=\"color:#cdcd00\">hl_3_bs_16_ac_sigmoid_fc_32_lr_0.001_opt_rmsprop_wd_0.05_wi_xavier_ep_10</strong> at: <a href='https://wandb.ai/ma24m003-iit-madras/neural-network-hyperparam-tuning/runs/2sc5p2gs' target=\"_blank\">https://wandb.ai/ma24m003-iit-madras/neural-network-hyperparam-tuning/runs/2sc5p2gs</a><br> View project at: <a href='https://wandb.ai/ma24m003-iit-madras/neural-network-hyperparam-tuning' target=\"_blank\">https://wandb.ai/ma24m003-iit-madras/neural-network-hyperparam-tuning</a><br>Synced 5 W&B file(s), 1 media file(s), 0 artifact file(s) and 0 other file(s)"
            ]
          },
          "metadata": {}
        },
        {
          "output_type": "display_data",
          "data": {
            "text/plain": [
              "<IPython.core.display.HTML object>"
            ],
            "text/html": [
              "Find logs at: <code>./wandb/run-20250317_053225-2sc5p2gs/logs</code>"
            ]
          },
          "metadata": {}
        },
        {
          "output_type": "stream",
          "name": "stderr",
          "text": [
            "\u001b[34m\u001b[1mwandb\u001b[0m: Agent Starting Run: cwit711o with config:\n",
            "\u001b[34m\u001b[1mwandb\u001b[0m: \tactivation: sigmoid\n",
            "\u001b[34m\u001b[1mwandb\u001b[0m: \tbatch_size: 32\n",
            "\u001b[34m\u001b[1mwandb\u001b[0m: \tepochs: 15\n",
            "\u001b[34m\u001b[1mwandb\u001b[0m: \tfc_layer_size: 128\n",
            "\u001b[34m\u001b[1mwandb\u001b[0m: \tlr: 0.0001\n",
            "\u001b[34m\u001b[1mwandb\u001b[0m: \tnum_hidden_layers: 5\n",
            "\u001b[34m\u001b[1mwandb\u001b[0m: \toptimizer: sgd\n",
            "\u001b[34m\u001b[1mwandb\u001b[0m: \tweight_decay: 0.005\n",
            "\u001b[34m\u001b[1mwandb\u001b[0m: \tweight_init: random\n"
          ]
        },
        {
          "output_type": "display_data",
          "data": {
            "text/plain": [
              "<IPython.core.display.HTML object>"
            ],
            "text/html": [
              "Ignoring project 'neural-network-hyperparam-tuning' when running a sweep."
            ]
          },
          "metadata": {}
        },
        {
          "output_type": "display_data",
          "data": {
            "text/plain": [
              "<IPython.core.display.HTML object>"
            ],
            "text/html": [
              "Tracking run with wandb version 0.19.8"
            ]
          },
          "metadata": {}
        },
        {
          "output_type": "display_data",
          "data": {
            "text/plain": [
              "<IPython.core.display.HTML object>"
            ],
            "text/html": [
              "Run data is saved locally in <code>/content/wandb/run-20250317_053342-cwit711o</code>"
            ]
          },
          "metadata": {}
        },
        {
          "output_type": "display_data",
          "data": {
            "text/plain": [
              "<IPython.core.display.HTML object>"
            ],
            "text/html": [
              "Syncing run <strong><a href='https://wandb.ai/ma24m003-iit-madras/neural-network-hyperparam-tuning/runs/cwit711o' target=\"_blank\">quiet-sweep-5</a></strong> to <a href='https://wandb.ai/ma24m003-iit-madras/neural-network-hyperparam-tuning' target=\"_blank\">Weights & Biases</a> (<a href='https://wandb.me/developer-guide' target=\"_blank\">docs</a>)<br>Sweep page: <a href='https://wandb.ai/ma24m003-iit-madras/neural-network-hyperparam-tuning/sweeps/klzawh2p' target=\"_blank\">https://wandb.ai/ma24m003-iit-madras/neural-network-hyperparam-tuning/sweeps/klzawh2p</a>"
            ]
          },
          "metadata": {}
        },
        {
          "output_type": "display_data",
          "data": {
            "text/plain": [
              "<IPython.core.display.HTML object>"
            ],
            "text/html": [
              " View project at <a href='https://wandb.ai/ma24m003-iit-madras/neural-network-hyperparam-tuning' target=\"_blank\">https://wandb.ai/ma24m003-iit-madras/neural-network-hyperparam-tuning</a>"
            ]
          },
          "metadata": {}
        },
        {
          "output_type": "display_data",
          "data": {
            "text/plain": [
              "<IPython.core.display.HTML object>"
            ],
            "text/html": [
              " View sweep at <a href='https://wandb.ai/ma24m003-iit-madras/neural-network-hyperparam-tuning/sweeps/klzawh2p' target=\"_blank\">https://wandb.ai/ma24m003-iit-madras/neural-network-hyperparam-tuning/sweeps/klzawh2p</a>"
            ]
          },
          "metadata": {}
        },
        {
          "output_type": "display_data",
          "data": {
            "text/plain": [
              "<IPython.core.display.HTML object>"
            ],
            "text/html": [
              " View run at <a href='https://wandb.ai/ma24m003-iit-madras/neural-network-hyperparam-tuning/runs/cwit711o' target=\"_blank\">https://wandb.ai/ma24m003-iit-madras/neural-network-hyperparam-tuning/runs/cwit711o</a>"
            ]
          },
          "metadata": {}
        },
        {
          "output_type": "stream",
          "name": "stdout",
          "text": [
            "Epoch 1, Loss: 835.9443424725428, Accuracy: 0.3352660047421458, val_loss: 833.8896844847169, val_accuracy: 0.4666666666666667\n",
            "Epoch 2, Loss: 833.4729204014974, Accuracy: 0.5211914641375223, val_loss: 832.1399263166542, val_accuracy: 0.5585\n",
            "Epoch 3, Loss: 831.8225733069208, Accuracy: 0.5897302904564315, val_loss: 830.5652297703155, val_accuracy: 0.6038333333333333\n",
            "Epoch 4, Loss: 830.2812595035499, Accuracy: 0.6297236218138708, val_loss: 829.0540049758987, val_accuracy: 0.6368333333333334\n",
            "Epoch 5, Loss: 828.787726633303, Accuracy: 0.6550459395376408, val_loss: 827.578031664146, val_accuracy: 0.6575\n",
            "Epoch 6, Loss: 827.3209787451772, Accuracy: 0.6722362181387078, val_loss: 826.1202312149649, val_accuracy: 0.6728333333333333\n",
            "Epoch 7, Loss: 825.8714785464217, Accuracy: 0.6847954949614701, val_loss: 824.6765417938878, val_accuracy: 0.6868333333333333\n",
            "Epoch 8, Loss: 824.4342538601683, Accuracy: 0.6965211914641375, val_loss: 823.2450200068878, val_accuracy: 0.6948333333333333\n",
            "Epoch 9, Loss: 823.0063336450165, Accuracy: 0.7047828986366331, val_loss: 821.8226339025499, val_accuracy: 0.6988333333333333\n",
            "Epoch 10, Loss: 821.5856977165853, Accuracy: 0.7124147895672792, val_loss: 820.4067222424806, val_accuracy: 0.708\n",
            "Epoch 11, Loss: 820.1716247872853, Accuracy: 0.718916716064019, val_loss: 818.9952897148764, val_accuracy: 0.7153333333333334\n",
            "Epoch 12, Loss: 818.7626626286105, Accuracy: 0.72467768227623, val_loss: 817.5899354531981, val_accuracy: 0.7198333333333333\n",
            "Epoch 13, Loss: 817.3585295503751, Accuracy: 0.7291975400118553, val_loss: 816.1893525272745, val_accuracy: 0.7245\n",
            "Epoch 14, Loss: 815.9585944825938, Accuracy: 0.7342731179608772, val_loss: 814.7930623835762, val_accuracy: 0.7271666666666666\n",
            "Epoch 15, Loss: 814.563263284437, Accuracy: 0.7380334914048607, val_loss: 813.4004311372036, val_accuracy: 0.7295\n",
            "Test Loss: 813.5367166590332, Test Accuracy: 0.6878\n"
          ]
        },
        {
          "output_type": "display_data",
          "data": {
            "text/plain": [
              "<IPython.core.display.HTML object>"
            ],
            "text/html": []
          },
          "metadata": {}
        },
        {
          "output_type": "display_data",
          "data": {
            "text/plain": [
              "<IPython.core.display.HTML object>"
            ],
            "text/html": [
              "<br>    <style><br>        .wandb-row {<br>            display: flex;<br>            flex-direction: row;<br>            flex-wrap: wrap;<br>            justify-content: flex-start;<br>            width: 100%;<br>        }<br>        .wandb-col {<br>            display: flex;<br>            flex-direction: column;<br>            flex-basis: 100%;<br>            flex: 1;<br>            padding: 10px;<br>        }<br>    </style><br><div class=\"wandb-row\"><div class=\"wandb-col\"><h3>Run history:</h3><br/><table class=\"wandb\"><tr><td>accuracy</td><td>▁▄▅▆▇▇▇▇▇██████</td></tr><tr><td>epoch</td><td>▁▁▂▃▃▃▄▅▅▅▆▇▇▇█</td></tr><tr><td>loss</td><td>█▇▇▆▆▅▅▄▄▃▃▂▂▁▁</td></tr><tr><td>test_accuracy</td><td>▁</td></tr><tr><td>test_loss</td><td>▁</td></tr><tr><td>val_accuracy</td><td>▁▃▅▆▆▆▇▇▇▇█████</td></tr><tr><td>val_loss</td><td>█▇▇▆▆▅▅▄▄▃▃▂▂▁▁</td></tr></table><br/></div><div class=\"wandb-col\"><h3>Run summary:</h3><br/><table class=\"wandb\"><tr><td>accuracy</td><td>0.73803</td></tr><tr><td>epoch</td><td>15</td></tr><tr><td>loss</td><td>814.56326</td></tr><tr><td>test_accuracy</td><td>0.6878</td></tr><tr><td>test_loss</td><td>813.53672</td></tr><tr><td>val_accuracy</td><td>0.7295</td></tr><tr><td>val_loss</td><td>813.40043</td></tr></table><br/></div></div>"
            ]
          },
          "metadata": {}
        },
        {
          "output_type": "display_data",
          "data": {
            "text/plain": [
              "<IPython.core.display.HTML object>"
            ],
            "text/html": [
              " View run <strong style=\"color:#cdcd00\">hl_5_bs_32_ac_sigmoid_fc_128_lr_0.0001_opt_sgd_wd_0.005_wi_random_ep_15</strong> at: <a href='https://wandb.ai/ma24m003-iit-madras/neural-network-hyperparam-tuning/runs/cwit711o' target=\"_blank\">https://wandb.ai/ma24m003-iit-madras/neural-network-hyperparam-tuning/runs/cwit711o</a><br> View project at: <a href='https://wandb.ai/ma24m003-iit-madras/neural-network-hyperparam-tuning' target=\"_blank\">https://wandb.ai/ma24m003-iit-madras/neural-network-hyperparam-tuning</a><br>Synced 5 W&B file(s), 1 media file(s), 0 artifact file(s) and 0 other file(s)"
            ]
          },
          "metadata": {}
        },
        {
          "output_type": "display_data",
          "data": {
            "text/plain": [
              "<IPython.core.display.HTML object>"
            ],
            "text/html": [
              "Find logs at: <code>./wandb/run-20250317_053342-cwit711o/logs</code>"
            ]
          },
          "metadata": {}
        }
      ]
    },
    {
      "cell_type": "markdown",
      "source": [
        "# Question 7"
      ],
      "metadata": {
        "id": "YGzesPlSkRvd"
      }
    },
    {
      "cell_type": "markdown",
      "source": [
        "We manually observe the best performing model from the sweep analysis charts based on maximizing test accuracy and evaluate the model again looking at the resulting confusing matrix of the model predictions."
      ],
      "metadata": {
        "id": "BrRkfbXAi5pJ"
      }
    },
    {
      "cell_type": "code",
      "source": [
        "#best model for cross entropy\n",
        "\n",
        "\n",
        "wandb.init(project=\"neural-network-hyperparam-tuning\", name=\"best_model_evaluation_0\")\n",
        "\n",
        "#set the identified best configuration\n",
        "best_config = {\n",
        "    \"activation\": \"sigmoid\",\n",
        "    \"batch_size\": 16,\n",
        "    \"epochs\": 15,\n",
        "    \"fc_layer_size\": 128,\n",
        "    \"lr\": 0.001,\n",
        "    \"num_hidden_layers\": 3,\n",
        "    \"optimizer\": \"nadam\",\n",
        "    \"weight_decay\": 0.0005,\n",
        "    \"weight_init\": \"xavier\"\n",
        "}\n",
        "\n",
        "#buil the neural network\n",
        "layers = [\n",
        "    layer(784, best_config[\"fc_layer_size\"], best_config[\"activation\"], best_config[\"weight_init\"])\n",
        "]\n",
        "for _ in range(best_config[\"num_hidden_layers\"] - 1):\n",
        "    layers.append(layer(best_config[\"fc_layer_size\"], best_config[\"fc_layer_size\"], best_config[\"activation\"], best_config[\"weight_init\"]))\n",
        "layers.append(layer(best_config[\"fc_layer_size\"], 10, \"softmax\", best_config[\"weight_init\"]))\n",
        "\n",
        "num_samples = x_train.shape[0]\n",
        "\n",
        "#train over epochs\n",
        "for epoch in range(best_config[\"epochs\"]):\n",
        "    shuffled_indices = np.random.permutation(num_samples)\n",
        "    x_train_shuffled = x_train[shuffled_indices]\n",
        "    y_train_shuffled = y_train[shuffled_indices]\n",
        "\n",
        "    epoch_loss = 0\n",
        "    epoch_acc = 0\n",
        "    #iterate over batches\n",
        "    for start in range(0, num_samples, best_config[\"batch_size\"]):\n",
        "        end = min(start + best_config[\"batch_size\"], num_samples)\n",
        "        x_batch = x_train_shuffled[start:end]\n",
        "        y_batch = y_train_shuffled[start:end]\n",
        "\n",
        "        #perform forward propagation\n",
        "        a = x_batch\n",
        "        for l in layers:\n",
        "            a = l.forward(a)\n",
        "        #calucate the loss and accuracy\n",
        "        loss = categorical_cross_entropy(y_batch, a, layers, best_config[\"weight_decay\"])\n",
        "        acc = accuracy(y_batch, a)\n",
        "\n",
        "        epoch_loss += loss\n",
        "        epoch_acc += acc\n",
        "\n",
        "        #perform backward propagation\n",
        "        a_d = a - y_batch\n",
        "        for l in reversed(layers):\n",
        "            a_d = l.backprop(a_d, best_config[\"lr\"], best_config[\"optimizer\"])\n",
        "\n",
        "    num_batches = max(1, num_samples // best_config[\"batch_size\"])\n",
        "    avg_loss = epoch_loss / num_batches\n",
        "    avg_acc = epoch_acc / num_batches\n",
        "\n",
        "    print(f\"Epoch {epoch + 1}, Loss: {avg_loss}, Accuracy: {avg_acc}\")\n",
        "\n",
        "    wandb.log({\"epoch\": epoch + 1, \"loss\": avg_loss, \"accuracy\": avg_acc})\n",
        "\n",
        "\n",
        "#analyze performance on the test data\n",
        "a_test = x_test\n",
        "for l in layers:\n",
        "    a_test = l.forward(a_test)\n",
        "\n",
        "test_loss = categorical_cross_entropy(y_test, a_test, layers, best_config[\"weight_decay\"])\n",
        "test_acc = accuracy(y_test, a_test)\n",
        "\n",
        "print(f\"Test Loss: {test_loss}, Test Accuracy: {test_acc}\")\n",
        "\n",
        "wandb.log({\"test_loss\": test_loss, \"test_accuracy\": test_acc})\n",
        "\n",
        "#build a confusion matric\n",
        "y_pred = np.argmax(a_test, axis=1)\n",
        "y_true = np.argmax(y_test, axis=1)\n",
        "cm = confusion_matrix(y_true, y_pred)\n",
        "\n",
        "plt.figure(figsize=(8, 6))\n",
        "sns.heatmap(cm, annot=True, fmt=\"d\", cmap=\"Blues\", xticklabels=range(10), yticklabels=range(10))\n",
        "plt.xlabel(\"Predicted\")\n",
        "plt.ylabel(\"True\")\n",
        "plt.title(\"Confusion Matrix of Best Model\")\n",
        "\n",
        "wandb.log({\"confusion_matrix\": wandb.Image(plt)})\n",
        "plt.show()\n",
        "\n",
        "wandb.finish()"
      ],
      "metadata": {
        "colab": {
          "base_uri": "https://localhost:8080/",
          "height": 1000
        },
        "id": "RI1HIlcqk_Dr",
        "outputId": "4c741b47-d7ab-4fdd-f57b-a7f1e789a96d"
      },
      "execution_count": 15,
      "outputs": [
        {
          "output_type": "display_data",
          "data": {
            "text/plain": [
              "<IPython.core.display.HTML object>"
            ],
            "text/html": [
              "Changes to your `wandb` environment variables will be ignored because your `wandb` session has already started. For more information on how to modify your settings with `wandb.init()` arguments, please refer to <a href='https://wandb.me/wandb-init' target=\"_blank\">the W&B docs</a>."
            ]
          },
          "metadata": {}
        },
        {
          "output_type": "display_data",
          "data": {
            "text/plain": [
              "<IPython.core.display.HTML object>"
            ],
            "text/html": [
              "Ignoring project 'neural-network-hyperparam-tuning' when running a sweep."
            ]
          },
          "metadata": {}
        },
        {
          "output_type": "display_data",
          "data": {
            "text/plain": [
              "<IPython.core.display.HTML object>"
            ],
            "text/html": [
              "Tracking run with wandb version 0.19.8"
            ]
          },
          "metadata": {}
        },
        {
          "output_type": "display_data",
          "data": {
            "text/plain": [
              "<IPython.core.display.HTML object>"
            ],
            "text/html": [
              "Run data is saved locally in <code>/content/wandb/run-20250317_053742-cwit711o</code>"
            ]
          },
          "metadata": {}
        },
        {
          "output_type": "display_data",
          "data": {
            "text/plain": [
              "<IPython.core.display.HTML object>"
            ],
            "text/html": [
              "Syncing run <strong><a href='https://wandb.ai/ma24m003-iit-madras/neural-network-hyperparam-tuning/runs/cwit711o' target=\"_blank\">best_model_evaluation_0</a></strong> to <a href='https://wandb.ai/ma24m003-iit-madras/neural-network-hyperparam-tuning' target=\"_blank\">Weights & Biases</a> (<a href='https://wandb.me/developer-guide' target=\"_blank\">docs</a>)<br>Sweep page: <a href='https://wandb.ai/ma24m003-iit-madras/neural-network-hyperparam-tuning/sweeps/klzawh2p' target=\"_blank\">https://wandb.ai/ma24m003-iit-madras/neural-network-hyperparam-tuning/sweeps/klzawh2p</a>"
            ]
          },
          "metadata": {}
        },
        {
          "output_type": "display_data",
          "data": {
            "text/plain": [
              "<IPython.core.display.HTML object>"
            ],
            "text/html": [
              " View project at <a href='https://wandb.ai/ma24m003-iit-madras/neural-network-hyperparam-tuning' target=\"_blank\">https://wandb.ai/ma24m003-iit-madras/neural-network-hyperparam-tuning</a>"
            ]
          },
          "metadata": {}
        },
        {
          "output_type": "display_data",
          "data": {
            "text/plain": [
              "<IPython.core.display.HTML object>"
            ],
            "text/html": [
              " View sweep at <a href='https://wandb.ai/ma24m003-iit-madras/neural-network-hyperparam-tuning/sweeps/klzawh2p' target=\"_blank\">https://wandb.ai/ma24m003-iit-madras/neural-network-hyperparam-tuning/sweeps/klzawh2p</a>"
            ]
          },
          "metadata": {}
        },
        {
          "output_type": "display_data",
          "data": {
            "text/plain": [
              "<IPython.core.display.HTML object>"
            ],
            "text/html": [
              " View run at <a href='https://wandb.ai/ma24m003-iit-madras/neural-network-hyperparam-tuning/runs/cwit711o' target=\"_blank\">https://wandb.ai/ma24m003-iit-madras/neural-network-hyperparam-tuning/runs/cwit711o</a>"
            ]
          },
          "metadata": {}
        },
        {
          "output_type": "stream",
          "name": "stdout",
          "text": [
            "Epoch 1, Loss: 1.4887554224128958, Accuracy: 0.7765555555555556\n",
            "Epoch 2, Loss: 1.867773518647874, Accuracy: 0.8581481481481481\n",
            "Epoch 3, Loss: 2.304144266454927, Accuracy: 0.8730185185185185\n",
            "Epoch 4, Loss: 2.7549171190602975, Accuracy: 0.8818518518518519\n",
            "Epoch 5, Loss: 3.2050828918927343, Accuracy: 0.8867592592592592\n",
            "Epoch 6, Loss: 3.659059065817729, Accuracy: 0.8923148148148148\n",
            "Epoch 7, Loss: 4.12908484481749, Accuracy: 0.8970925925925926\n",
            "Epoch 8, Loss: 4.603696801543571, Accuracy: 0.8999259259259259\n",
            "Epoch 9, Loss: 5.073681395103283, Accuracy: 0.9032777777777777\n",
            "Epoch 10, Loss: 5.542024293617983, Accuracy: 0.9054629629629629\n",
            "Epoch 11, Loss: 6.008048526017075, Accuracy: 0.9110555555555555\n",
            "Epoch 12, Loss: 6.470205177050138, Accuracy: 0.9128888888888889\n",
            "Epoch 13, Loss: 6.920839098789936, Accuracy: 0.9167962962962963\n",
            "Epoch 14, Loss: 7.396275809734909, Accuracy: 0.9180555555555555\n",
            "Epoch 15, Loss: 7.878106740690808, Accuracy: 0.919425925925926\n",
            "Test Loss: 8.346778322017725, Test Accuracy: 0.8574\n"
          ]
        },
        {
          "output_type": "display_data",
          "data": {
            "text/plain": [
              "<Figure size 800x600 with 2 Axes>"
            ],
            "image/png": "[encoded data removed]"
          },
          "metadata": {}
        },
        {
          "output_type": "display_data",
          "data": {
            "text/plain": [
              "<IPython.core.display.HTML object>"
            ],
            "text/html": []
          },
          "metadata": {}
        },
        {
          "output_type": "display_data",
          "data": {
            "text/plain": [
              "<IPython.core.display.HTML object>"
            ],
            "text/html": [
              "<br>    <style><br>        .wandb-row {<br>            display: flex;<br>            flex-direction: row;<br>            flex-wrap: wrap;<br>            justify-content: flex-start;<br>            width: 100%;<br>        }<br>        .wandb-col {<br>            display: flex;<br>            flex-direction: column;<br>            flex-basis: 100%;<br>            flex: 1;<br>            padding: 10px;<br>        }<br>    </style><br><div class=\"wandb-row\"><div class=\"wandb-col\"><h3>Run history:</h3><br/><table class=\"wandb\"><tr><td>accuracy</td><td>▁▅▆▆▆▇▇▇▇▇█████</td></tr><tr><td>epoch</td><td>▁▁▂▃▃▃▄▅▅▅▆▇▇▇█</td></tr><tr><td>loss</td><td>▁▁▂▂▃▃▄▄▅▅▆▆▇▇█</td></tr><tr><td>test_accuracy</td><td>▁</td></tr><tr><td>test_loss</td><td>▁</td></tr></table><br/></div><div class=\"wandb-col\"><h3>Run summary:</h3><br/><table class=\"wandb\"><tr><td>accuracy</td><td>0.91943</td></tr><tr><td>epoch</td><td>15</td></tr><tr><td>loss</td><td>7.87811</td></tr><tr><td>test_accuracy</td><td>0.8574</td></tr><tr><td>test_loss</td><td>8.34678</td></tr></table><br/></div></div>"
            ]
          },
          "metadata": {}
        },
        {
          "output_type": "display_data",
          "data": {
            "text/plain": [
              "<IPython.core.display.HTML object>"
            ],
            "text/html": [
              " View run <strong style=\"color:#cdcd00\">best_model_evaluation_0</strong> at: <a href='https://wandb.ai/ma24m003-iit-madras/neural-network-hyperparam-tuning/runs/cwit711o' target=\"_blank\">https://wandb.ai/ma24m003-iit-madras/neural-network-hyperparam-tuning/runs/cwit711o</a><br> View project at: <a href='https://wandb.ai/ma24m003-iit-madras/neural-network-hyperparam-tuning' target=\"_blank\">https://wandb.ai/ma24m003-iit-madras/neural-network-hyperparam-tuning</a><br>Synced 5 W&B file(s), 1 media file(s), 0 artifact file(s) and 0 other file(s)"
            ]
          },
          "metadata": {}
        },
        {
          "output_type": "display_data",
          "data": {
            "text/plain": [
              "<IPython.core.display.HTML object>"
            ],
            "text/html": [
              "Find logs at: <code>./wandb/run-20250317_053742-cwit711o/logs</code>"
            ]
          },
          "metadata": {}
        }
      ]
    },
    {
      "cell_type": "markdown",
      "source": [
        "# Question 8"
      ],
      "metadata": {
        "id": "LwhMN8dm4WI-"
      }
    },
    {
      "cell_type": "markdown",
      "source": [
        "Now, instead of using cross entropy loss, we will use the squared error loss function and perform a similar wandb sweep as before to identify the best models and the accuracies achieved with this loss function."
      ],
      "metadata": {
        "id": "lQpOJS_9kN8T"
      }
    },
    {
      "cell_type": "code",
      "source": [
        "#with MSE loss function\n",
        "\n",
        "#define new sweep\n",
        "new_sweep_id = wandb.sweep(sweep_config, project=\"neural-network-hyperparam-tuning\")\n",
        "\n",
        "\n",
        "def train_network(config=None):\n",
        "    with wandb.init(config=config, project=\"neural-network-hyperparam-tuning\"):\n",
        "        config = wandb.config\n",
        "        run_name = f\"hl_{config.num_hidden_layers}_bs_{config.batch_size}_ac_{config.activation}\"\n",
        "        wandb.run.name = run_name\n",
        "\n",
        "        layers = [\n",
        "            layer(784, config.fc_layer_size, config.activation, config.weight_init)\n",
        "        ]\n",
        "\n",
        "        for _ in range(config.num_hidden_layers - 1):\n",
        "            layers.append(layer(config.fc_layer_size, config.fc_layer_size, config.activation, config.weight_init))\n",
        "        layers.append(layer(config.fc_layer_size, 10, \"softmax\", config.weight_init))\n",
        "\n",
        "        num_samples = x_train.shape[0]\n",
        "\n",
        "        for epoch in range(config.epochs):\n",
        "            shuffled_indices = np.random.permutation(num_samples)\n",
        "            x_train_shuffled = x_train[shuffled_indices]\n",
        "            y_train_shuffled = y_train[shuffled_indices]\n",
        "\n",
        "            epoch_loss = 0\n",
        "            epoch_acc = 0\n",
        "\n",
        "            for start in range(0, num_samples, config.batch_size):\n",
        "                end = min(start + config.batch_size, num_samples)\n",
        "                x_batch = x_train_shuffled[start:end]\n",
        "                y_batch = y_train_shuffled[start:end]\n",
        "\n",
        "                a = x_batch\n",
        "                for l in layers:\n",
        "                    a = l.forward(a)\n",
        "\n",
        "                loss = squared_error_loss(y_batch, a)\n",
        "                acc = accuracy(y_batch, a)\n",
        "\n",
        "                epoch_loss += loss\n",
        "                epoch_acc += acc\n",
        "\n",
        "                a_d = (a - y_batch) * a * (1 - a)   #derivative of MSE loss with softmax output layer\n",
        "                for l in reversed(layers):\n",
        "                    a_d = l.backprop(a_d, config.lr, config.optimizer)\n",
        "\n",
        "            num_batches = max(1, num_samples // config.batch_size)\n",
        "            avg_loss = epoch_loss / num_batches\n",
        "            avg_acc = epoch_acc / num_batches\n",
        "\n",
        "            a_val = x_val\n",
        "            for l in layers:\n",
        "                a_val = l.forward(a_val)\n",
        "\n",
        "            val_loss = squared_error_loss(y_val, a_val)\n",
        "            val_acc = accuracy(y_val, a_val)\n",
        "\n",
        "            print(f\"Epoch {epoch + 1}, Loss: {avg_loss}, Accuracy: {avg_acc}, val_loss: {val_loss}, val_accuracy: {val_acc}\")\n",
        "\n",
        "            wandb.log({\"epoch\": epoch + 1, \"loss\": avg_loss, \"accuracy\": avg_acc,\n",
        "                       \"val_loss\": val_loss, \"val_accuracy\": val_acc})\n",
        "\n",
        "        a_test = x_test\n",
        "        for l in layers:\n",
        "            a_test = l.forward(a_test)\n",
        "\n",
        "        test_loss = squared_error_loss(y_test, a_test)\n",
        "        test_acc = accuracy(y_test, a_test)\n",
        "        print(f\"Test Loss: {test_loss}, Test Accuracy: {test_acc}\")\n",
        "\n",
        "        wandb.log({\"test_loss\": test_loss, \"test_accuracy\": test_acc})\n",
        "\n",
        "        y_pred = np.argmax(a_test, axis=1)\n",
        "        y_true = np.argmax(y_test, axis=1)\n",
        "        cm = confusion_matrix(y_true, y_pred)\n",
        "\n",
        "        plt.figure(figsize=(8, 6))\n",
        "        sns.heatmap(cm, annot=True, fmt=\"d\", cmap=\"Blues\", xticklabels=range(10), yticklabels=range(10))\n",
        "        plt.xlabel(\"Predicted\")\n",
        "        plt.ylabel(\"True\")\n",
        "        plt.title(\"Confusion Matrix\")\n",
        "\n",
        "        wandb.log({\"confusion_matrix\": wandb.Image(plt)})\n",
        "        plt.close()\n",
        "\n",
        "\n",
        "\n",
        "x_train = x_train.reshape(x_train.shape[0], -1)\n",
        "x_val = x_val.reshape(x_val.shape[0], -1)\n",
        "x_test = x_test.reshape(x_test.shape[0], -1)\n",
        "\n",
        "wandb.agent(new_sweep_id, train_network, count=5) #used count = 50 for the main sweep\n",
        "\n",
        "wandb.finish()\n"
      ],
      "metadata": {
        "colab": {
          "base_uri": "https://localhost:8080/",
          "height": 1000
        },
        "id": "3ILmmb8pzf4b",
        "outputId": "8ce29b87-e982-4124-db14-64fe3ca7c51f"
      },
      "execution_count": 16,
      "outputs": [
        {
          "output_type": "stream",
          "name": "stdout",
          "text": [
            "Create sweep with ID: nn1fswes\n",
            "Sweep URL: https://wandb.ai/ma24m003-iit-madras/neural-network-hyperparam-tuning/sweeps/nn1fswes\n"
          ]
        },
        {
          "output_type": "stream",
          "name": "stderr",
          "text": [
            "\u001b[34m\u001b[1mwandb\u001b[0m: Agent Starting Run: th51pheh with config:\n",
            "\u001b[34m\u001b[1mwandb\u001b[0m: \tactivation: sigmoid\n",
            "\u001b[34m\u001b[1mwandb\u001b[0m: \tbatch_size: 16\n",
            "\u001b[34m\u001b[1mwandb\u001b[0m: \tepochs: 5\n",
            "\u001b[34m\u001b[1mwandb\u001b[0m: \tfc_layer_size: 128\n",
            "\u001b[34m\u001b[1mwandb\u001b[0m: \tlr: 0.0001\n",
            "\u001b[34m\u001b[1mwandb\u001b[0m: \tnum_hidden_layers: 4\n",
            "\u001b[34m\u001b[1mwandb\u001b[0m: \toptimizer: rmsprop\n",
            "\u001b[34m\u001b[1mwandb\u001b[0m: \tweight_decay: 0.5\n",
            "\u001b[34m\u001b[1mwandb\u001b[0m: \tweight_init: random\n"
          ]
        },
        {
          "output_type": "display_data",
          "data": {
            "text/plain": [
              "<IPython.core.display.HTML object>"
            ],
            "text/html": [
              "Ignoring project 'neural-network-hyperparam-tuning' when running a sweep."
            ]
          },
          "metadata": {}
        },
        {
          "output_type": "display_data",
          "data": {
            "text/plain": [
              "<IPython.core.display.HTML object>"
            ],
            "text/html": [
              "Tracking run with wandb version 0.19.8"
            ]
          },
          "metadata": {}
        },
        {
          "output_type": "display_data",
          "data": {
            "text/plain": [
              "<IPython.core.display.HTML object>"
            ],
            "text/html": [
              "Run data is saved locally in <code>/content/wandb/run-20250317_054518-th51pheh</code>"
            ]
          },
          "metadata": {}
        },
        {
          "output_type": "display_data",
          "data": {
            "text/plain": [
              "<IPython.core.display.HTML object>"
            ],
            "text/html": [
              "Syncing run <strong><a href='https://wandb.ai/ma24m003-iit-madras/neural-network-hyperparam-tuning/runs/th51pheh' target=\"_blank\">robust-sweep-1</a></strong> to <a href='https://wandb.ai/ma24m003-iit-madras/neural-network-hyperparam-tuning' target=\"_blank\">Weights & Biases</a> (<a href='https://wandb.me/developer-guide' target=\"_blank\">docs</a>)<br>Sweep page: <a href='https://wandb.ai/ma24m003-iit-madras/neural-network-hyperparam-tuning/sweeps/nn1fswes' target=\"_blank\">https://wandb.ai/ma24m003-iit-madras/neural-network-hyperparam-tuning/sweeps/nn1fswes</a>"
            ]
          },
          "metadata": {}
        },
        {
          "output_type": "display_data",
          "data": {
            "text/plain": [
              "<IPython.core.display.HTML object>"
            ],
            "text/html": [
              " View project at <a href='https://wandb.ai/ma24m003-iit-madras/neural-network-hyperparam-tuning' target=\"_blank\">https://wandb.ai/ma24m003-iit-madras/neural-network-hyperparam-tuning</a>"
            ]
          },
          "metadata": {}
        },
        {
          "output_type": "display_data",
          "data": {
            "text/plain": [
              "<IPython.core.display.HTML object>"
            ],
            "text/html": [
              " View sweep at <a href='https://wandb.ai/ma24m003-iit-madras/neural-network-hyperparam-tuning/sweeps/nn1fswes' target=\"_blank\">https://wandb.ai/ma24m003-iit-madras/neural-network-hyperparam-tuning/sweeps/nn1fswes</a>"
            ]
          },
          "metadata": {}
        },
        {
          "output_type": "display_data",
          "data": {
            "text/plain": [
              "<IPython.core.display.HTML object>"
            ],
            "text/html": [
              " View run at <a href='https://wandb.ai/ma24m003-iit-madras/neural-network-hyperparam-tuning/runs/th51pheh' target=\"_blank\">https://wandb.ai/ma24m003-iit-madras/neural-network-hyperparam-tuning/runs/th51pheh</a>"
            ]
          },
          "metadata": {}
        },
        {
          "output_type": "stream",
          "name": "stdout",
          "text": [
            "Epoch 1, Loss: 0.3398662718125186, Accuracy: 0.48842592592592593, val_loss: 0.2194860340891802, val_accuracy: 0.6815\n",
            "Epoch 2, Loss: 0.19470381837070666, Accuracy: 0.7197407407407408, val_loss: 0.18126309227877793, val_accuracy: 0.7405\n",
            "Epoch 3, Loss: 0.16956516458451046, Accuracy: 0.7567777777777778, val_loss: 0.1674045975611306, val_accuracy: 0.7598333333333334\n",
            "Epoch 4, Loss: 0.15663629980463664, Accuracy: 0.776425925925926, val_loss: 0.1583984867512088, val_accuracy: 0.769\n",
            "Epoch 5, Loss: 0.14789848479472897, Accuracy: 0.7897037037037037, val_loss: 0.15122006000063443, val_accuracy: 0.7828333333333334\n",
            "Test Loss: 0.17167075558811246, Test Accuracy: 0.7534\n"
          ]
        },
        {
          "output_type": "display_data",
          "data": {
            "text/plain": [
              "<IPython.core.display.HTML object>"
            ],
            "text/html": []
          },
          "metadata": {}
        },
        {
          "output_type": "display_data",
          "data": {
            "text/plain": [
              "<IPython.core.display.HTML object>"
            ],
            "text/html": [
              "<br>    <style><br>        .wandb-row {<br>            display: flex;<br>            flex-direction: row;<br>            flex-wrap: wrap;<br>            justify-content: flex-start;<br>            width: 100%;<br>        }<br>        .wandb-col {<br>            display: flex;<br>            flex-direction: column;<br>            flex-basis: 100%;<br>            flex: 1;<br>            padding: 10px;<br>        }<br>    </style><br><div class=\"wandb-row\"><div class=\"wandb-col\"><h3>Run history:</h3><br/><table class=\"wandb\"><tr><td>accuracy</td><td>▁▆▇██</td></tr><tr><td>epoch</td><td>▁▃▅▆█</td></tr><tr><td>loss</td><td>█▃▂▁▁</td></tr><tr><td>test_accuracy</td><td>▁</td></tr><tr><td>test_loss</td><td>▁</td></tr><tr><td>val_accuracy</td><td>▁▅▆▇█</td></tr><tr><td>val_loss</td><td>█▄▃▂▁</td></tr></table><br/></div><div class=\"wandb-col\"><h3>Run summary:</h3><br/><table class=\"wandb\"><tr><td>accuracy</td><td>0.7897</td></tr><tr><td>epoch</td><td>5</td></tr><tr><td>loss</td><td>0.1479</td></tr><tr><td>test_accuracy</td><td>0.7534</td></tr><tr><td>test_loss</td><td>0.17167</td></tr><tr><td>val_accuracy</td><td>0.78283</td></tr><tr><td>val_loss</td><td>0.15122</td></tr></table><br/></div></div>"
            ]
          },
          "metadata": {}
        },
        {
          "output_type": "display_data",
          "data": {
            "text/plain": [
              "<IPython.core.display.HTML object>"
            ],
            "text/html": [
              " View run <strong style=\"color:#cdcd00\">hl_4_bs_16_ac_sigmoid</strong> at: <a href='https://wandb.ai/ma24m003-iit-madras/neural-network-hyperparam-tuning/runs/th51pheh' target=\"_blank\">https://wandb.ai/ma24m003-iit-madras/neural-network-hyperparam-tuning/runs/th51pheh</a><br> View project at: <a href='https://wandb.ai/ma24m003-iit-madras/neural-network-hyperparam-tuning' target=\"_blank\">https://wandb.ai/ma24m003-iit-madras/neural-network-hyperparam-tuning</a><br>Synced 5 W&B file(s), 1 media file(s), 0 artifact file(s) and 0 other file(s)"
            ]
          },
          "metadata": {}
        },
        {
          "output_type": "display_data",
          "data": {
            "text/plain": [
              "<IPython.core.display.HTML object>"
            ],
            "text/html": [
              "Find logs at: <code>./wandb/run-20250317_054518-th51pheh/logs</code>"
            ]
          },
          "metadata": {}
        },
        {
          "output_type": "stream",
          "name": "stderr",
          "text": [
            "\u001b[34m\u001b[1mwandb\u001b[0m: Agent Starting Run: sjuuhono with config:\n",
            "\u001b[34m\u001b[1mwandb\u001b[0m: \tactivation: sigmoid\n",
            "\u001b[34m\u001b[1mwandb\u001b[0m: \tbatch_size: 16\n",
            "\u001b[34m\u001b[1mwandb\u001b[0m: \tepochs: 15\n",
            "\u001b[34m\u001b[1mwandb\u001b[0m: \tfc_layer_size: 32\n",
            "\u001b[34m\u001b[1mwandb\u001b[0m: \tlr: 0.0001\n",
            "\u001b[34m\u001b[1mwandb\u001b[0m: \tnum_hidden_layers: 4\n",
            "\u001b[34m\u001b[1mwandb\u001b[0m: \toptimizer: rmsprop\n",
            "\u001b[34m\u001b[1mwandb\u001b[0m: \tweight_decay: 0.005\n",
            "\u001b[34m\u001b[1mwandb\u001b[0m: \tweight_init: xavier\n"
          ]
        },
        {
          "output_type": "display_data",
          "data": {
            "text/plain": [
              "<IPython.core.display.HTML object>"
            ],
            "text/html": [
              "Ignoring project 'neural-network-hyperparam-tuning' when running a sweep."
            ]
          },
          "metadata": {}
        },
        {
          "output_type": "display_data",
          "data": {
            "text/plain": [
              "<IPython.core.display.HTML object>"
            ],
            "text/html": [
              "Tracking run with wandb version 0.19.8"
            ]
          },
          "metadata": {}
        },
        {
          "output_type": "display_data",
          "data": {
            "text/plain": [
              "<IPython.core.display.HTML object>"
            ],
            "text/html": [
              "Run data is saved locally in <code>/content/wandb/run-20250317_054730-sjuuhono</code>"
            ]
          },
          "metadata": {}
        },
        {
          "output_type": "display_data",
          "data": {
            "text/plain": [
              "<IPython.core.display.HTML object>"
            ],
            "text/html": [
              "Syncing run <strong><a href='https://wandb.ai/ma24m003-iit-madras/neural-network-hyperparam-tuning/runs/sjuuhono' target=\"_blank\">rare-sweep-2</a></strong> to <a href='https://wandb.ai/ma24m003-iit-madras/neural-network-hyperparam-tuning' target=\"_blank\">Weights & Biases</a> (<a href='https://wandb.me/developer-guide' target=\"_blank\">docs</a>)<br>Sweep page: <a href='https://wandb.ai/ma24m003-iit-madras/neural-network-hyperparam-tuning/sweeps/nn1fswes' target=\"_blank\">https://wandb.ai/ma24m003-iit-madras/neural-network-hyperparam-tuning/sweeps/nn1fswes</a>"
            ]
          },
          "metadata": {}
        },
        {
          "output_type": "display_data",
          "data": {
            "text/plain": [
              "<IPython.core.display.HTML object>"
            ],
            "text/html": [
              " View project at <a href='https://wandb.ai/ma24m003-iit-madras/neural-network-hyperparam-tuning' target=\"_blank\">https://wandb.ai/ma24m003-iit-madras/neural-network-hyperparam-tuning</a>"
            ]
          },
          "metadata": {}
        },
        {
          "output_type": "display_data",
          "data": {
            "text/plain": [
              "<IPython.core.display.HTML object>"
            ],
            "text/html": [
              " View sweep at <a href='https://wandb.ai/ma24m003-iit-madras/neural-network-hyperparam-tuning/sweeps/nn1fswes' target=\"_blank\">https://wandb.ai/ma24m003-iit-madras/neural-network-hyperparam-tuning/sweeps/nn1fswes</a>"
            ]
          },
          "metadata": {}
        },
        {
          "output_type": "display_data",
          "data": {
            "text/plain": [
              "<IPython.core.display.HTML object>"
            ],
            "text/html": [
              " View run at <a href='https://wandb.ai/ma24m003-iit-madras/neural-network-hyperparam-tuning/runs/sjuuhono' target=\"_blank\">https://wandb.ai/ma24m003-iit-madras/neural-network-hyperparam-tuning/runs/sjuuhono</a>"
            ]
          },
          "metadata": {}
        },
        {
          "output_type": "stream",
          "name": "stdout",
          "text": [
            "Epoch 1, Loss: 0.43432443136545856, Accuracy: 0.19181481481481483, val_loss: 0.4082151313964482, val_accuracy: 0.20066666666666666\n",
            "Epoch 2, Loss: 0.39175176847522425, Accuracy: 0.294962962962963, val_loss: 0.37644499878687143, val_accuracy: 0.29433333333333334\n",
            "Epoch 3, Loss: 0.3588188997384939, Accuracy: 0.4104259259259259, val_loss: 0.336668807232042, val_accuracy: 0.43966666666666665\n",
            "Epoch 4, Loss: 0.30679084949926605, Accuracy: 0.5302037037037037, val_loss: 0.28576139303955045, val_accuracy: 0.5583333333333333\n",
            "Epoch 5, Loss: 0.26755567237638705, Accuracy: 0.5707962962962962, val_loss: 0.25818262105533774, val_accuracy: 0.5805\n",
            "Epoch 6, Loss: 0.24785713875341717, Accuracy: 0.6006481481481482, val_loss: 0.2441775101033348, val_accuracy: 0.6035\n",
            "Epoch 7, Loss: 0.23460023377055045, Accuracy: 0.6259814814814815, val_loss: 0.23180076852068404, val_accuracy: 0.629\n",
            "Epoch 8, Loss: 0.2229885623370669, Accuracy: 0.6427592592592593, val_loss: 0.22089008317916373, val_accuracy: 0.6471666666666667\n",
            "Epoch 9, Loss: 0.21315161854594697, Accuracy: 0.6592037037037037, val_loss: 0.21166687179459223, val_accuracy: 0.6676666666666666\n",
            "Epoch 10, Loss: 0.2021126032918612, Accuracy: 0.6895555555555556, val_loss: 0.20023297288575903, val_accuracy: 0.7048333333333333\n",
            "Epoch 11, Loss: 0.19003718420345767, Accuracy: 0.7266481481481482, val_loss: 0.18817923083624222, val_accuracy: 0.7375\n",
            "Epoch 12, Loss: 0.17743446239944566, Accuracy: 0.7619444444444444, val_loss: 0.17523459933309857, val_accuracy: 0.7636666666666667\n",
            "Epoch 13, Loss: 0.16814132855563743, Accuracy: 0.7720555555555556, val_loss: 0.16860327902466027, val_accuracy: 0.7701666666666667\n",
            "Epoch 14, Loss: 0.16195773486341405, Accuracy: 0.7786666666666666, val_loss: 0.1633316859881506, val_accuracy: 0.7741666666666667\n",
            "Epoch 15, Loss: 0.15724821167830016, Accuracy: 0.7823518518518519, val_loss: 0.15815197090197508, val_accuracy: 0.7796666666666666\n",
            "Test Loss: 0.18108429879503019, Test Accuracy: 0.7467\n"
          ]
        },
        {
          "output_type": "display_data",
          "data": {
            "text/plain": [
              "<IPython.core.display.HTML object>"
            ],
            "text/html": []
          },
          "metadata": {}
        },
        {
          "output_type": "display_data",
          "data": {
            "text/plain": [
              "<IPython.core.display.HTML object>"
            ],
            "text/html": [
              "<br>    <style><br>        .wandb-row {<br>            display: flex;<br>            flex-direction: row;<br>            flex-wrap: wrap;<br>            justify-content: flex-start;<br>            width: 100%;<br>        }<br>        .wandb-col {<br>            display: flex;<br>            flex-direction: column;<br>            flex-basis: 100%;<br>            flex: 1;<br>            padding: 10px;<br>        }<br>    </style><br><div class=\"wandb-row\"><div class=\"wandb-col\"><h3>Run history:</h3><br/><table class=\"wandb\"><tr><td>accuracy</td><td>▁▂▄▅▅▆▆▆▇▇▇████</td></tr><tr><td>epoch</td><td>▁▁▂▃▃▃▄▅▅▅▆▇▇▇█</td></tr><tr><td>loss</td><td>█▇▆▅▄▃▃▃▂▂▂▂▁▁▁</td></tr><tr><td>test_accuracy</td><td>▁</td></tr><tr><td>test_loss</td><td>▁</td></tr><tr><td>val_accuracy</td><td>▁▂▄▅▆▆▆▆▇▇▇████</td></tr><tr><td>val_loss</td><td>█▇▆▅▄▃▃▃▂▂▂▁▁▁▁</td></tr></table><br/></div><div class=\"wandb-col\"><h3>Run summary:</h3><br/><table class=\"wandb\"><tr><td>accuracy</td><td>0.78235</td></tr><tr><td>epoch</td><td>15</td></tr><tr><td>loss</td><td>0.15725</td></tr><tr><td>test_accuracy</td><td>0.7467</td></tr><tr><td>test_loss</td><td>0.18108</td></tr><tr><td>val_accuracy</td><td>0.77967</td></tr><tr><td>val_loss</td><td>0.15815</td></tr></table><br/></div></div>"
            ]
          },
          "metadata": {}
        },
        {
          "output_type": "display_data",
          "data": {
            "text/plain": [
              "<IPython.core.display.HTML object>"
            ],
            "text/html": [
              " View run <strong style=\"color:#cdcd00\">hl_4_bs_16_ac_sigmoid</strong> at: <a href='https://wandb.ai/ma24m003-iit-madras/neural-network-hyperparam-tuning/runs/sjuuhono' target=\"_blank\">https://wandb.ai/ma24m003-iit-madras/neural-network-hyperparam-tuning/runs/sjuuhono</a><br> View project at: <a href='https://wandb.ai/ma24m003-iit-madras/neural-network-hyperparam-tuning' target=\"_blank\">https://wandb.ai/ma24m003-iit-madras/neural-network-hyperparam-tuning</a><br>Synced 5 W&B file(s), 1 media file(s), 0 artifact file(s) and 0 other file(s)"
            ]
          },
          "metadata": {}
        },
        {
          "output_type": "display_data",
          "data": {
            "text/plain": [
              "<IPython.core.display.HTML object>"
            ],
            "text/html": [
              "Find logs at: <code>./wandb/run-20250317_054730-sjuuhono/logs</code>"
            ]
          },
          "metadata": {}
        },
        {
          "output_type": "stream",
          "name": "stderr",
          "text": [
            "\u001b[34m\u001b[1mwandb\u001b[0m: Agent Starting Run: wa09qt1k with config:\n",
            "\u001b[34m\u001b[1mwandb\u001b[0m: \tactivation: sigmoid\n",
            "\u001b[34m\u001b[1mwandb\u001b[0m: \tbatch_size: 32\n",
            "\u001b[34m\u001b[1mwandb\u001b[0m: \tepochs: 5\n",
            "\u001b[34m\u001b[1mwandb\u001b[0m: \tfc_layer_size: 32\n",
            "\u001b[34m\u001b[1mwandb\u001b[0m: \tlr: 0.0001\n",
            "\u001b[34m\u001b[1mwandb\u001b[0m: \tnum_hidden_layers: 5\n",
            "\u001b[34m\u001b[1mwandb\u001b[0m: \toptimizer: nadam\n",
            "\u001b[34m\u001b[1mwandb\u001b[0m: \tweight_decay: 0.05\n",
            "\u001b[34m\u001b[1mwandb\u001b[0m: \tweight_init: xavier\n"
          ]
        },
        {
          "output_type": "display_data",
          "data": {
            "text/plain": [
              "<IPython.core.display.HTML object>"
            ],
            "text/html": [
              "Ignoring project 'neural-network-hyperparam-tuning' when running a sweep."
            ]
          },
          "metadata": {}
        },
        {
          "output_type": "display_data",
          "data": {
            "text/plain": [
              "<IPython.core.display.HTML object>"
            ],
            "text/html": [
              "Tracking run with wandb version 0.19.8"
            ]
          },
          "metadata": {}
        },
        {
          "output_type": "display_data",
          "data": {
            "text/plain": [
              "<IPython.core.display.HTML object>"
            ],
            "text/html": [
              "Run data is saved locally in <code>/content/wandb/run-20250317_054927-wa09qt1k</code>"
            ]
          },
          "metadata": {}
        },
        {
          "output_type": "display_data",
          "data": {
            "text/plain": [
              "<IPython.core.display.HTML object>"
            ],
            "text/html": [
              "Syncing run <strong><a href='https://wandb.ai/ma24m003-iit-madras/neural-network-hyperparam-tuning/runs/wa09qt1k' target=\"_blank\">vague-sweep-3</a></strong> to <a href='https://wandb.ai/ma24m003-iit-madras/neural-network-hyperparam-tuning' target=\"_blank\">Weights & Biases</a> (<a href='https://wandb.me/developer-guide' target=\"_blank\">docs</a>)<br>Sweep page: <a href='https://wandb.ai/ma24m003-iit-madras/neural-network-hyperparam-tuning/sweeps/nn1fswes' target=\"_blank\">https://wandb.ai/ma24m003-iit-madras/neural-network-hyperparam-tuning/sweeps/nn1fswes</a>"
            ]
          },
          "metadata": {}
        },
        {
          "output_type": "display_data",
          "data": {
            "text/plain": [
              "<IPython.core.display.HTML object>"
            ],
            "text/html": [
              " View project at <a href='https://wandb.ai/ma24m003-iit-madras/neural-network-hyperparam-tuning' target=\"_blank\">https://wandb.ai/ma24m003-iit-madras/neural-network-hyperparam-tuning</a>"
            ]
          },
          "metadata": {}
        },
        {
          "output_type": "display_data",
          "data": {
            "text/plain": [
              "<IPython.core.display.HTML object>"
            ],
            "text/html": [
              " View sweep at <a href='https://wandb.ai/ma24m003-iit-madras/neural-network-hyperparam-tuning/sweeps/nn1fswes' target=\"_blank\">https://wandb.ai/ma24m003-iit-madras/neural-network-hyperparam-tuning/sweeps/nn1fswes</a>"
            ]
          },
          "metadata": {}
        },
        {
          "output_type": "display_data",
          "data": {
            "text/plain": [
              "<IPython.core.display.HTML object>"
            ],
            "text/html": [
              " View run at <a href='https://wandb.ai/ma24m003-iit-madras/neural-network-hyperparam-tuning/runs/wa09qt1k' target=\"_blank\">https://wandb.ai/ma24m003-iit-madras/neural-network-hyperparam-tuning/runs/wa09qt1k</a>"
            ]
          },
          "metadata": {}
        },
        {
          "output_type": "stream",
          "name": "stdout",
          "text": [
            "Epoch 1, Loss: 0.4494510771048209, Accuracy: 0.1460617960877297, val_loss: 0.43926289198498225, val_accuracy: 0.18683333333333332\n",
            "Epoch 2, Loss: 0.41470207442956325, Accuracy: 0.24223844101956135, val_loss: 0.3972755199772966, val_accuracy: 0.295\n",
            "Epoch 3, Loss: 0.3851454638343265, Accuracy: 0.3234476882039123, val_loss: 0.37335611084115433, val_accuracy: 0.36816666666666664\n",
            "Epoch 4, Loss: 0.36296107138393535, Accuracy: 0.389226437462952, val_loss: 0.3534622459593512, val_accuracy: 0.4231666666666667\n",
            "Epoch 5, Loss: 0.3440791647244748, Accuracy: 0.4445205986959099, val_loss: 0.33615575981497176, val_accuracy: 0.4533333333333333\n",
            "Test Loss: 0.33564256001553805, Test Accuracy: 0.4554\n"
          ]
        },
        {
          "output_type": "display_data",
          "data": {
            "text/plain": [
              "<IPython.core.display.HTML object>"
            ],
            "text/html": []
          },
          "metadata": {}
        },
        {
          "output_type": "display_data",
          "data": {
            "text/plain": [
              "<IPython.core.display.HTML object>"
            ],
            "text/html": [
              "<br>    <style><br>        .wandb-row {<br>            display: flex;<br>            flex-direction: row;<br>            flex-wrap: wrap;<br>            justify-content: flex-start;<br>            width: 100%;<br>        }<br>        .wandb-col {<br>            display: flex;<br>            flex-direction: column;<br>            flex-basis: 100%;<br>            flex: 1;<br>            padding: 10px;<br>        }<br>    </style><br><div class=\"wandb-row\"><div class=\"wandb-col\"><h3>Run history:</h3><br/><table class=\"wandb\"><tr><td>accuracy</td><td>▁▃▅▇█</td></tr><tr><td>epoch</td><td>▁▃▅▆█</td></tr><tr><td>loss</td><td>█▆▄▂▁</td></tr><tr><td>test_accuracy</td><td>▁</td></tr><tr><td>test_loss</td><td>▁</td></tr><tr><td>val_accuracy</td><td>▁▄▆▇█</td></tr><tr><td>val_loss</td><td>█▅▄▂▁</td></tr></table><br/></div><div class=\"wandb-col\"><h3>Run summary:</h3><br/><table class=\"wandb\"><tr><td>accuracy</td><td>0.44452</td></tr><tr><td>epoch</td><td>5</td></tr><tr><td>loss</td><td>0.34408</td></tr><tr><td>test_accuracy</td><td>0.4554</td></tr><tr><td>test_loss</td><td>0.33564</td></tr><tr><td>val_accuracy</td><td>0.45333</td></tr><tr><td>val_loss</td><td>0.33616</td></tr></table><br/></div></div>"
            ]
          },
          "metadata": {}
        },
        {
          "output_type": "display_data",
          "data": {
            "text/plain": [
              "<IPython.core.display.HTML object>"
            ],
            "text/html": [
              " View run <strong style=\"color:#cdcd00\">hl_5_bs_32_ac_sigmoid</strong> at: <a href='https://wandb.ai/ma24m003-iit-madras/neural-network-hyperparam-tuning/runs/wa09qt1k' target=\"_blank\">https://wandb.ai/ma24m003-iit-madras/neural-network-hyperparam-tuning/runs/wa09qt1k</a><br> View project at: <a href='https://wandb.ai/ma24m003-iit-madras/neural-network-hyperparam-tuning' target=\"_blank\">https://wandb.ai/ma24m003-iit-madras/neural-network-hyperparam-tuning</a><br>Synced 5 W&B file(s), 1 media file(s), 0 artifact file(s) and 0 other file(s)"
            ]
          },
          "metadata": {}
        },
        {
          "output_type": "display_data",
          "data": {
            "text/plain": [
              "<IPython.core.display.HTML object>"
            ],
            "text/html": [
              "Find logs at: <code>./wandb/run-20250317_054927-wa09qt1k/logs</code>"
            ]
          },
          "metadata": {}
        },
        {
          "output_type": "stream",
          "name": "stderr",
          "text": [
            "\u001b[34m\u001b[1mwandb\u001b[0m: Agent Starting Run: 7qabiid1 with config:\n",
            "\u001b[34m\u001b[1mwandb\u001b[0m: \tactivation: relu\n",
            "\u001b[34m\u001b[1mwandb\u001b[0m: \tbatch_size: 16\n",
            "\u001b[34m\u001b[1mwandb\u001b[0m: \tepochs: 5\n",
            "\u001b[34m\u001b[1mwandb\u001b[0m: \tfc_layer_size: 128\n",
            "\u001b[34m\u001b[1mwandb\u001b[0m: \tlr: 0.0001\n",
            "\u001b[34m\u001b[1mwandb\u001b[0m: \tnum_hidden_layers: 3\n",
            "\u001b[34m\u001b[1mwandb\u001b[0m: \toptimizer: nesterov\n",
            "\u001b[34m\u001b[1mwandb\u001b[0m: \tweight_decay: 0.005\n",
            "\u001b[34m\u001b[1mwandb\u001b[0m: \tweight_init: xavier\n"
          ]
        },
        {
          "output_type": "display_data",
          "data": {
            "text/plain": [
              "<IPython.core.display.HTML object>"
            ],
            "text/html": [
              "Ignoring project 'neural-network-hyperparam-tuning' when running a sweep."
            ]
          },
          "metadata": {}
        },
        {
          "output_type": "display_data",
          "data": {
            "text/plain": [
              "<IPython.core.display.HTML object>"
            ],
            "text/html": [
              "Tracking run with wandb version 0.19.8"
            ]
          },
          "metadata": {}
        },
        {
          "output_type": "display_data",
          "data": {
            "text/plain": [
              "<IPython.core.display.HTML object>"
            ],
            "text/html": [
              "Run data is saved locally in <code>/content/wandb/run-20250317_055008-7qabiid1</code>"
            ]
          },
          "metadata": {}
        },
        {
          "output_type": "display_data",
          "data": {
            "text/plain": [
              "<IPython.core.display.HTML object>"
            ],
            "text/html": [
              "Syncing run <strong><a href='https://wandb.ai/ma24m003-iit-madras/neural-network-hyperparam-tuning/runs/7qabiid1' target=\"_blank\">ancient-sweep-4</a></strong> to <a href='https://wandb.ai/ma24m003-iit-madras/neural-network-hyperparam-tuning' target=\"_blank\">Weights & Biases</a> (<a href='https://wandb.me/developer-guide' target=\"_blank\">docs</a>)<br>Sweep page: <a href='https://wandb.ai/ma24m003-iit-madras/neural-network-hyperparam-tuning/sweeps/nn1fswes' target=\"_blank\">https://wandb.ai/ma24m003-iit-madras/neural-network-hyperparam-tuning/sweeps/nn1fswes</a>"
            ]
          },
          "metadata": {}
        },
        {
          "output_type": "display_data",
          "data": {
            "text/plain": [
              "<IPython.core.display.HTML object>"
            ],
            "text/html": [
              " View project at <a href='https://wandb.ai/ma24m003-iit-madras/neural-network-hyperparam-tuning' target=\"_blank\">https://wandb.ai/ma24m003-iit-madras/neural-network-hyperparam-tuning</a>"
            ]
          },
          "metadata": {}
        },
        {
          "output_type": "display_data",
          "data": {
            "text/plain": [
              "<IPython.core.display.HTML object>"
            ],
            "text/html": [
              " View sweep at <a href='https://wandb.ai/ma24m003-iit-madras/neural-network-hyperparam-tuning/sweeps/nn1fswes' target=\"_blank\">https://wandb.ai/ma24m003-iit-madras/neural-network-hyperparam-tuning/sweeps/nn1fswes</a>"
            ]
          },
          "metadata": {}
        },
        {
          "output_type": "display_data",
          "data": {
            "text/plain": [
              "<IPython.core.display.HTML object>"
            ],
            "text/html": [
              " View run at <a href='https://wandb.ai/ma24m003-iit-madras/neural-network-hyperparam-tuning/runs/7qabiid1' target=\"_blank\">https://wandb.ai/ma24m003-iit-madras/neural-network-hyperparam-tuning/runs/7qabiid1</a>"
            ]
          },
          "metadata": {}
        },
        {
          "output_type": "stream",
          "name": "stdout",
          "text": [
            "Epoch 1, Loss: 0.20141875283020147, Accuracy: 0.6968333333333333, val_loss: 0.13977756471365077, val_accuracy: 0.8043333333333333\n",
            "Epoch 2, Loss: 0.1285947245851832, Accuracy: 0.8192222222222222, val_loss: 0.12099120466251254, val_accuracy: 0.8258333333333333\n",
            "Epoch 3, Loss: 0.11666058381594306, Accuracy: 0.8362777777777778, val_loss: 0.11503565475061972, val_accuracy: 0.8376666666666667\n",
            "Epoch 4, Loss: 0.11056908776900114, Accuracy: 0.845037037037037, val_loss: 0.10657495860150448, val_accuracy: 0.8533333333333334\n",
            "Epoch 5, Loss: 0.10674852598081211, Accuracy: 0.8506851851851852, val_loss: 0.1125527483179975, val_accuracy: 0.846\n",
            "Test Loss: 0.24437254056220536, Test Accuracy: 0.7549\n"
          ]
        },
        {
          "output_type": "display_data",
          "data": {
            "text/plain": [
              "<IPython.core.display.HTML object>"
            ],
            "text/html": []
          },
          "metadata": {}
        },
        {
          "output_type": "display_data",
          "data": {
            "text/plain": [
              "<IPython.core.display.HTML object>"
            ],
            "text/html": [
              "<br>    <style><br>        .wandb-row {<br>            display: flex;<br>            flex-direction: row;<br>            flex-wrap: wrap;<br>            justify-content: flex-start;<br>            width: 100%;<br>        }<br>        .wandb-col {<br>            display: flex;<br>            flex-direction: column;<br>            flex-basis: 100%;<br>            flex: 1;<br>            padding: 10px;<br>        }<br>    </style><br><div class=\"wandb-row\"><div class=\"wandb-col\"><h3>Run history:</h3><br/><table class=\"wandb\"><tr><td>accuracy</td><td>▁▇▇██</td></tr><tr><td>epoch</td><td>▁▃▅▆█</td></tr><tr><td>loss</td><td>█▃▂▁▁</td></tr><tr><td>test_accuracy</td><td>▁</td></tr><tr><td>test_loss</td><td>▁</td></tr><tr><td>val_accuracy</td><td>▁▄▆█▇</td></tr><tr><td>val_loss</td><td>█▄▃▁▂</td></tr></table><br/></div><div class=\"wandb-col\"><h3>Run summary:</h3><br/><table class=\"wandb\"><tr><td>accuracy</td><td>0.85069</td></tr><tr><td>epoch</td><td>5</td></tr><tr><td>loss</td><td>0.10675</td></tr><tr><td>test_accuracy</td><td>0.7549</td></tr><tr><td>test_loss</td><td>0.24437</td></tr><tr><td>val_accuracy</td><td>0.846</td></tr><tr><td>val_loss</td><td>0.11255</td></tr></table><br/></div></div>"
            ]
          },
          "metadata": {}
        },
        {
          "output_type": "display_data",
          "data": {
            "text/plain": [
              "<IPython.core.display.HTML object>"
            ],
            "text/html": [
              " View run <strong style=\"color:#cdcd00\">hl_3_bs_16_ac_relu</strong> at: <a href='https://wandb.ai/ma24m003-iit-madras/neural-network-hyperparam-tuning/runs/7qabiid1' target=\"_blank\">https://wandb.ai/ma24m003-iit-madras/neural-network-hyperparam-tuning/runs/7qabiid1</a><br> View project at: <a href='https://wandb.ai/ma24m003-iit-madras/neural-network-hyperparam-tuning' target=\"_blank\">https://wandb.ai/ma24m003-iit-madras/neural-network-hyperparam-tuning</a><br>Synced 5 W&B file(s), 1 media file(s), 0 artifact file(s) and 0 other file(s)"
            ]
          },
          "metadata": {}
        },
        {
          "output_type": "display_data",
          "data": {
            "text/plain": [
              "<IPython.core.display.HTML object>"
            ],
            "text/html": [
              "Find logs at: <code>./wandb/run-20250317_055008-7qabiid1/logs</code>"
            ]
          },
          "metadata": {}
        },
        {
          "output_type": "stream",
          "name": "stderr",
          "text": [
            "\u001b[34m\u001b[1mwandb\u001b[0m: Agent Starting Run: o02pxe2w with config:\n",
            "\u001b[34m\u001b[1mwandb\u001b[0m: \tactivation: relu\n",
            "\u001b[34m\u001b[1mwandb\u001b[0m: \tbatch_size: 32\n",
            "\u001b[34m\u001b[1mwandb\u001b[0m: \tepochs: 15\n",
            "\u001b[34m\u001b[1mwandb\u001b[0m: \tfc_layer_size: 64\n",
            "\u001b[34m\u001b[1mwandb\u001b[0m: \tlr: 1e-05\n",
            "\u001b[34m\u001b[1mwandb\u001b[0m: \tnum_hidden_layers: 4\n",
            "\u001b[34m\u001b[1mwandb\u001b[0m: \toptimizer: nesterov\n",
            "\u001b[34m\u001b[1mwandb\u001b[0m: \tweight_decay: 0\n",
            "\u001b[34m\u001b[1mwandb\u001b[0m: \tweight_init: random\n"
          ]
        },
        {
          "output_type": "display_data",
          "data": {
            "text/plain": [
              "<IPython.core.display.HTML object>"
            ],
            "text/html": [
              "Ignoring project 'neural-network-hyperparam-tuning' when running a sweep."
            ]
          },
          "metadata": {}
        },
        {
          "output_type": "display_data",
          "data": {
            "text/plain": [
              "<IPython.core.display.HTML object>"
            ],
            "text/html": [
              "Tracking run with wandb version 0.19.8"
            ]
          },
          "metadata": {}
        },
        {
          "output_type": "display_data",
          "data": {
            "text/plain": [
              "<IPython.core.display.HTML object>"
            ],
            "text/html": [
              "Run data is saved locally in <code>/content/wandb/run-20250317_055124-o02pxe2w</code>"
            ]
          },
          "metadata": {}
        },
        {
          "output_type": "display_data",
          "data": {
            "text/plain": [
              "<IPython.core.display.HTML object>"
            ],
            "text/html": [
              "Syncing run <strong><a href='https://wandb.ai/ma24m003-iit-madras/neural-network-hyperparam-tuning/runs/o02pxe2w' target=\"_blank\">gentle-sweep-5</a></strong> to <a href='https://wandb.ai/ma24m003-iit-madras/neural-network-hyperparam-tuning' target=\"_blank\">Weights & Biases</a> (<a href='https://wandb.me/developer-guide' target=\"_blank\">docs</a>)<br>Sweep page: <a href='https://wandb.ai/ma24m003-iit-madras/neural-network-hyperparam-tuning/sweeps/nn1fswes' target=\"_blank\">https://wandb.ai/ma24m003-iit-madras/neural-network-hyperparam-tuning/sweeps/nn1fswes</a>"
            ]
          },
          "metadata": {}
        },
        {
          "output_type": "display_data",
          "data": {
            "text/plain": [
              "<IPython.core.display.HTML object>"
            ],
            "text/html": [
              " View project at <a href='https://wandb.ai/ma24m003-iit-madras/neural-network-hyperparam-tuning' target=\"_blank\">https://wandb.ai/ma24m003-iit-madras/neural-network-hyperparam-tuning</a>"
            ]
          },
          "metadata": {}
        },
        {
          "output_type": "display_data",
          "data": {
            "text/plain": [
              "<IPython.core.display.HTML object>"
            ],
            "text/html": [
              " View sweep at <a href='https://wandb.ai/ma24m003-iit-madras/neural-network-hyperparam-tuning/sweeps/nn1fswes' target=\"_blank\">https://wandb.ai/ma24m003-iit-madras/neural-network-hyperparam-tuning/sweeps/nn1fswes</a>"
            ]
          },
          "metadata": {}
        },
        {
          "output_type": "display_data",
          "data": {
            "text/plain": [
              "<IPython.core.display.HTML object>"
            ],
            "text/html": [
              " View run at <a href='https://wandb.ai/ma24m003-iit-madras/neural-network-hyperparam-tuning/runs/o02pxe2w' target=\"_blank\">https://wandb.ai/ma24m003-iit-madras/neural-network-hyperparam-tuning/runs/o02pxe2w</a>"
            ]
          },
          "metadata": {}
        },
        {
          "output_type": "stream",
          "name": "stdout",
          "text": [
            "Epoch 1, Loss: 0.8988185685260075, Accuracy: 0.10173384706579727, val_loss: 0.8946666666666667, val_accuracy: 0.10533333333333333\n",
            "Epoch 2, Loss: 0.9011373740367516, Accuracy: 0.09945539419087136, val_loss: 0.8946666666666667, val_accuracy: 0.10533333333333333\n",
            "Epoch 3, Loss: 0.9011003260225252, Accuracy: 0.0994924422050978, val_loss: 0.8946666666666667, val_accuracy: 0.10533333333333333\n",
            "Epoch 4, Loss: 0.9011558980438649, Accuracy: 0.09943687018375814, val_loss: 0.8946666666666667, val_accuracy: 0.10533333333333333\n",
            "Epoch 5, Loss: 0.9011558980438649, Accuracy: 0.09943687018375814, val_loss: 0.8946666666666667, val_accuracy: 0.10533333333333333\n",
            "Epoch 6, Loss: 0.9011003260225252, Accuracy: 0.0994924422050978, val_loss: 0.8946666666666667, val_accuracy: 0.10533333333333333\n",
            "Epoch 7, Loss: 0.9011558980438649, Accuracy: 0.09943687018375814, val_loss: 0.8946666666666667, val_accuracy: 0.10533333333333333\n",
            "Epoch 8, Loss: 0.9011373740367516, Accuracy: 0.09945539419087136, val_loss: 0.8946666666666667, val_accuracy: 0.10533333333333333\n",
            "Epoch 9, Loss: 0.9011373740367516, Accuracy: 0.09945539419087136, val_loss: 0.8946666666666667, val_accuracy: 0.10533333333333333\n",
            "Epoch 10, Loss: 0.9011188500296384, Accuracy: 0.09947391819798458, val_loss: 0.8946666666666667, val_accuracy: 0.10533333333333333\n",
            "Epoch 11, Loss: 0.9011558980438649, Accuracy: 0.09943687018375814, val_loss: 0.8946666666666667, val_accuracy: 0.10533333333333333\n",
            "Epoch 12, Loss: 0.9011188500296384, Accuracy: 0.09947391819798458, val_loss: 0.8946666666666667, val_accuracy: 0.10533333333333333\n",
            "Epoch 13, Loss: 0.9011188500296384, Accuracy: 0.09947391819798458, val_loss: 0.8946666666666667, val_accuracy: 0.10533333333333333\n",
            "Epoch 14, Loss: 0.9011003260225252, Accuracy: 0.0994924422050978, val_loss: 0.8946666666666667, val_accuracy: 0.10533333333333333\n",
            "Epoch 15, Loss: 0.9011558980438649, Accuracy: 0.09943687018375814, val_loss: 0.8946666666666667, val_accuracy: 0.10533333333333333\n",
            "Test Loss: 0.9, Test Accuracy: 0.1\n"
          ]
        },
        {
          "output_type": "display_data",
          "data": {
            "text/plain": [
              "<IPython.core.display.HTML object>"
            ],
            "text/html": []
          },
          "metadata": {}
        },
        {
          "output_type": "display_data",
          "data": {
            "text/plain": [
              "<IPython.core.display.HTML object>"
            ],
            "text/html": [
              "<br>    <style><br>        .wandb-row {<br>            display: flex;<br>            flex-direction: row;<br>            flex-wrap: wrap;<br>            justify-content: flex-start;<br>            width: 100%;<br>        }<br>        .wandb-col {<br>            display: flex;<br>            flex-direction: column;<br>            flex-basis: 100%;<br>            flex: 1;<br>            padding: 10px;<br>        }<br>    </style><br><div class=\"wandb-row\"><div class=\"wandb-col\"><h3>Run history:</h3><br/><table class=\"wandb\"><tr><td>accuracy</td><td>█▁▁▁▁▁▁▁▁▁▁▁▁▁▁</td></tr><tr><td>epoch</td><td>▁▁▂▃▃▃▄▅▅▅▆▇▇▇█</td></tr><tr><td>loss</td><td>▁██████████████</td></tr><tr><td>test_accuracy</td><td>▁</td></tr><tr><td>test_loss</td><td>▁</td></tr><tr><td>val_accuracy</td><td>▁▁▁▁▁▁▁▁▁▁▁▁▁▁▁</td></tr><tr><td>val_loss</td><td>▁▁▁▁▁▁▁▁▁▁▁▁▁▁▁</td></tr></table><br/></div><div class=\"wandb-col\"><h3>Run summary:</h3><br/><table class=\"wandb\"><tr><td>accuracy</td><td>0.09944</td></tr><tr><td>epoch</td><td>15</td></tr><tr><td>loss</td><td>0.90116</td></tr><tr><td>test_accuracy</td><td>0.1</td></tr><tr><td>test_loss</td><td>0.9</td></tr><tr><td>val_accuracy</td><td>0.10533</td></tr><tr><td>val_loss</td><td>0.89467</td></tr></table><br/></div></div>"
            ]
          },
          "metadata": {}
        },
        {
          "output_type": "display_data",
          "data": {
            "text/plain": [
              "<IPython.core.display.HTML object>"
            ],
            "text/html": [
              " View run <strong style=\"color:#cdcd00\">hl_4_bs_32_ac_relu</strong> at: <a href='https://wandb.ai/ma24m003-iit-madras/neural-network-hyperparam-tuning/runs/o02pxe2w' target=\"_blank\">https://wandb.ai/ma24m003-iit-madras/neural-network-hyperparam-tuning/runs/o02pxe2w</a><br> View project at: <a href='https://wandb.ai/ma24m003-iit-madras/neural-network-hyperparam-tuning' target=\"_blank\">https://wandb.ai/ma24m003-iit-madras/neural-network-hyperparam-tuning</a><br>Synced 5 W&B file(s), 1 media file(s), 0 artifact file(s) and 0 other file(s)"
            ]
          },
          "metadata": {}
        },
        {
          "output_type": "display_data",
          "data": {
            "text/plain": [
              "<IPython.core.display.HTML object>"
            ],
            "text/html": [
              "Find logs at: <code>./wandb/run-20250317_055124-o02pxe2w/logs</code>"
            ]
          },
          "metadata": {}
        }
      ]
    },
    {
      "cell_type": "markdown",
      "source": [
        "As we did for cross entropy, we can analyze the best performing model for the squared error loss function."
      ],
      "metadata": {
        "id": "RwsvZlialBB1"
      }
    },
    {
      "cell_type": "code",
      "source": [
        "#best model for MSE loss function\n",
        "\n",
        "wandb.init(project=\"neural-network-hyperparam-tuning\", name=\"best_model_evaluation\")\n",
        "\n",
        "best_config = {\n",
        "    \"activation\": \"sigmoid\",\n",
        "    \"batch_size\": 64,\n",
        "    \"epochs\": 10,\n",
        "    \"fc_layer_size\": 64,\n",
        "    \"lr\": 0.001,\n",
        "    \"num_hidden_layers\": 4,\n",
        "    \"optimizer\": \"nadam\",\n",
        "    \"weight_decay\": 0.0005,\n",
        "    \"weight_init\": \"random\"\n",
        "}\n",
        "\n",
        "layers = [\n",
        "    layer(784, best_config[\"fc_layer_size\"], best_config[\"activation\"], best_config[\"weight_init\"])\n",
        "]\n",
        "for _ in range(best_config[\"num_hidden_layers\"] - 1):\n",
        "    layers.append(layer(best_config[\"fc_layer_size\"], best_config[\"fc_layer_size\"], best_config[\"activation\"], best_config[\"weight_init\"]))\n",
        "layers.append(layer(best_config[\"fc_layer_size\"], 10, \"softmax\", best_config[\"weight_init\"]))\n",
        "\n",
        "num_samples = x_train.shape[0]\n",
        "\n",
        "for epoch in range(best_config[\"epochs\"]):\n",
        "    shuffled_indices = np.random.permutation(num_samples)\n",
        "    x_train_shuffled = x_train[shuffled_indices]\n",
        "    y_train_shuffled = y_train[shuffled_indices]\n",
        "\n",
        "    epoch_loss = 0\n",
        "    epoch_acc = 0\n",
        "\n",
        "    for start in range(0, num_samples, best_config[\"batch_size\"]):\n",
        "        end = min(start + best_config[\"batch_size\"], num_samples)\n",
        "        x_batch = x_train_shuffled[start:end]\n",
        "        y_batch = y_train_shuffled[start:end]\n",
        "\n",
        "        a = x_batch\n",
        "        for l in layers:\n",
        "            a = l.forward(a)\n",
        "\n",
        "        loss = squared_error_loss(y_batch, a)\n",
        "        acc = accuracy(y_batch, a)\n",
        "\n",
        "        epoch_loss += loss\n",
        "        epoch_acc += acc\n",
        "\n",
        "        a_d = a - y_batch\n",
        "        for l in reversed(layers):\n",
        "            a_d = l.backprop(a_d, best_config[\"lr\"], best_config[\"optimizer\"])\n",
        "\n",
        "    num_batches = max(1, num_samples // best_config[\"batch_size\"])\n",
        "    avg_loss = epoch_loss / num_batches\n",
        "    avg_acc = epoch_acc / num_batches\n",
        "\n",
        "    print(f\"Epoch {epoch + 1}, Loss: {avg_loss}, Accuracy: {avg_acc}\")\n",
        "\n",
        "    wandb.log({\"epoch\": epoch + 1, \"loss\": avg_loss, \"accuracy\": avg_acc})\n",
        "\n",
        "\n",
        "a_test = x_test\n",
        "for l in layers:\n",
        "    a_test = l.forward(a_test)\n",
        "\n",
        "test_loss = squared_error_loss(y_test, a_test)\n",
        "test_acc = accuracy(y_test, a_test)\n",
        "\n",
        "print(f\"Test Loss: {test_loss}, Test Accuracy: {test_acc}\")\n",
        "\n",
        "wandb.log({\"test_loss\": test_loss, \"test_accuracy\": test_acc})\n",
        "\n",
        "y_pred = np.argmax(a_test, axis=1)\n",
        "y_true = np.argmax(y_test, axis=1)\n",
        "cm = confusion_matrix(y_true, y_pred)\n",
        "\n",
        "plt.figure(figsize=(8, 6))\n",
        "sns.heatmap(cm, annot=True, fmt=\"d\", cmap=\"Blues\", xticklabels=range(10), yticklabels=range(10))\n",
        "plt.xlabel(\"Predicted\")\n",
        "plt.ylabel(\"True\")\n",
        "plt.title(\"Confusion Matrix of Best Model\")\n",
        "\n",
        "wandb.log({\"confusion_matrix\": wandb.Image(plt)})\n",
        "plt.show()\n",
        "\n",
        "wandb.finish()"
      ],
      "metadata": {
        "colab": {
          "base_uri": "https://localhost:8080/",
          "height": 1000
        },
        "id": "7tbThqEo7NLp",
        "outputId": "131df775-f33d-4563-e173-7716fef52e85"
      },
      "execution_count": 17,
      "outputs": [
        {
          "output_type": "display_data",
          "data": {
            "text/plain": [
              "<IPython.core.display.HTML object>"
            ],
            "text/html": [
              "Changes to your `wandb` environment variables will be ignored because your `wandb` session has already started. For more information on how to modify your settings with `wandb.init()` arguments, please refer to <a href='https://wandb.me/wandb-init' target=\"_blank\">the W&B docs</a>."
            ]
          },
          "metadata": {}
        },
        {
          "output_type": "display_data",
          "data": {
            "text/plain": [
              "<IPython.core.display.HTML object>"
            ],
            "text/html": [
              "Ignoring project 'neural-network-hyperparam-tuning' when running a sweep."
            ]
          },
          "metadata": {}
        },
        {
          "output_type": "display_data",
          "data": {
            "text/plain": [
              "<IPython.core.display.HTML object>"
            ],
            "text/html": [
              "Tracking run with wandb version 0.19.8"
            ]
          },
          "metadata": {}
        },
        {
          "output_type": "display_data",
          "data": {
            "text/plain": [
              "<IPython.core.display.HTML object>"
            ],
            "text/html": [
              "Run data is saved locally in <code>/content/wandb/run-20250317_055352-o02pxe2w</code>"
            ]
          },
          "metadata": {}
        },
        {
          "output_type": "display_data",
          "data": {
            "text/plain": [
              "<IPython.core.display.HTML object>"
            ],
            "text/html": [
              "Syncing run <strong><a href='https://wandb.ai/ma24m003-iit-madras/neural-network-hyperparam-tuning/runs/o02pxe2w' target=\"_blank\">best_model_evaluation</a></strong> to <a href='https://wandb.ai/ma24m003-iit-madras/neural-network-hyperparam-tuning' target=\"_blank\">Weights & Biases</a> (<a href='https://wandb.me/developer-guide' target=\"_blank\">docs</a>)<br>Sweep page: <a href='https://wandb.ai/ma24m003-iit-madras/neural-network-hyperparam-tuning/sweeps/nn1fswes' target=\"_blank\">https://wandb.ai/ma24m003-iit-madras/neural-network-hyperparam-tuning/sweeps/nn1fswes</a>"
            ]
          },
          "metadata": {}
        },
        {
          "output_type": "display_data",
          "data": {
            "text/plain": [
              "<IPython.core.display.HTML object>"
            ],
            "text/html": [
              " View project at <a href='https://wandb.ai/ma24m003-iit-madras/neural-network-hyperparam-tuning' target=\"_blank\">https://wandb.ai/ma24m003-iit-madras/neural-network-hyperparam-tuning</a>"
            ]
          },
          "metadata": {}
        },
        {
          "output_type": "display_data",
          "data": {
            "text/plain": [
              "<IPython.core.display.HTML object>"
            ],
            "text/html": [
              " View sweep at <a href='https://wandb.ai/ma24m003-iit-madras/neural-network-hyperparam-tuning/sweeps/nn1fswes' target=\"_blank\">https://wandb.ai/ma24m003-iit-madras/neural-network-hyperparam-tuning/sweeps/nn1fswes</a>"
            ]
          },
          "metadata": {}
        },
        {
          "output_type": "display_data",
          "data": {
            "text/plain": [
              "<IPython.core.display.HTML object>"
            ],
            "text/html": [
              " View run at <a href='https://wandb.ai/ma24m003-iit-madras/neural-network-hyperparam-tuning/runs/o02pxe2w' target=\"_blank\">https://wandb.ai/ma24m003-iit-madras/neural-network-hyperparam-tuning/runs/o02pxe2w</a>"
            ]
          },
          "metadata": {}
        },
        {
          "output_type": "stream",
          "name": "stdout",
          "text": [
            "Epoch 1, Loss: 0.23114668776170622, Accuracy: 0.6515482898378806\n",
            "Epoch 2, Loss: 0.1479184453392856, Accuracy: 0.78883081257414\n",
            "Epoch 3, Loss: 0.13018559410124173, Accuracy: 0.8157374456306841\n",
            "Epoch 4, Loss: 0.12037224930609257, Accuracy: 0.8304295175958878\n",
            "Epoch 5, Loss: 0.11418862353968709, Accuracy: 0.8389617931988927\n",
            "Epoch 6, Loss: 0.10876786949498063, Accuracy: 0.8481922202451562\n",
            "Epoch 7, Loss: 0.10437420497234146, Accuracy: 0.853202846975089\n",
            "Epoch 8, Loss: 0.10074223427114593, Accuracy: 0.858405001977066\n",
            "Epoch 9, Loss: 0.09745618813170327, Accuracy: 0.8632735270858047\n",
            "Epoch 10, Loss: 0.09459316105778554, Accuracy: 0.8669434559114275\n",
            "Test Loss: 0.12996372586724986, Test Accuracy: 0.8164\n"
          ]
        },
        {
          "output_type": "display_data",
          "data": {
            "text/plain": [
              "<Figure size 800x600 with 2 Axes>"
            ],
            "image/png": "[encoded data removed]"
          },
          "metadata": {}
        },
        {
          "output_type": "display_data",
          "data": {
            "text/plain": [
              "<IPython.core.display.HTML object>"
            ],
            "text/html": []
          },
          "metadata": {}
        },
        {
          "output_type": "display_data",
          "data": {
            "text/plain": [
              "<IPython.core.display.HTML object>"
            ],
            "text/html": [
              "<br>    <style><br>        .wandb-row {<br>            display: flex;<br>            flex-direction: row;<br>            flex-wrap: wrap;<br>            justify-content: flex-start;<br>            width: 100%;<br>        }<br>        .wandb-col {<br>            display: flex;<br>            flex-direction: column;<br>            flex-basis: 100%;<br>            flex: 1;<br>            padding: 10px;<br>        }<br>    </style><br><div class=\"wandb-row\"><div class=\"wandb-col\"><h3>Run history:</h3><br/><table class=\"wandb\"><tr><td>accuracy</td><td>▁▅▆▇▇▇████</td></tr><tr><td>epoch</td><td>▁▂▃▃▄▅▆▆▇█</td></tr><tr><td>loss</td><td>█▄▃▂▂▂▂▁▁▁</td></tr><tr><td>test_accuracy</td><td>▁</td></tr><tr><td>test_loss</td><td>▁</td></tr></table><br/></div><div class=\"wandb-col\"><h3>Run summary:</h3><br/><table class=\"wandb\"><tr><td>accuracy</td><td>0.86694</td></tr><tr><td>epoch</td><td>10</td></tr><tr><td>loss</td><td>0.09459</td></tr><tr><td>test_accuracy</td><td>0.8164</td></tr><tr><td>test_loss</td><td>0.12996</td></tr></table><br/></div></div>"
            ]
          },
          "metadata": {}
        },
        {
          "output_type": "display_data",
          "data": {
            "text/plain": [
              "<IPython.core.display.HTML object>"
            ],
            "text/html": [
              " View run <strong style=\"color:#cdcd00\">best_model_evaluation</strong> at: <a href='https://wandb.ai/ma24m003-iit-madras/neural-network-hyperparam-tuning/runs/o02pxe2w' target=\"_blank\">https://wandb.ai/ma24m003-iit-madras/neural-network-hyperparam-tuning/runs/o02pxe2w</a><br> View project at: <a href='https://wandb.ai/ma24m003-iit-madras/neural-network-hyperparam-tuning' target=\"_blank\">https://wandb.ai/ma24m003-iit-madras/neural-network-hyperparam-tuning</a><br>Synced 5 W&B file(s), 1 media file(s), 0 artifact file(s) and 0 other file(s)"
            ]
          },
          "metadata": {}
        },
        {
          "output_type": "display_data",
          "data": {
            "text/plain": [
              "<IPython.core.display.HTML object>"
            ],
            "text/html": [
              "Find logs at: <code>./wandb/run-20250317_055352-o02pxe2w/logs</code>"
            ]
          },
          "metadata": {}
        }
      ]
    },
    {
      "cell_type": "markdown",
      "source": [
        "# Question 10"
      ],
      "metadata": {
        "id": "dEQvkh7tNG_o"
      }
    },
    {
      "cell_type": "markdown",
      "source": [
        "Based on our learnings from the experiments on the Fashion-MNIST dataset, we will take 3 of the best performing models and evaluate their performance on the MNIST dataset"
      ],
      "metadata": {
        "id": "aOuXf9z_lN7W"
      }
    },
    {
      "cell_type": "code",
      "source": [
        "from tensorflow.keras.datasets import mnist\n"
      ],
      "metadata": {
        "id": "rliyQBi3PQ1Q"
      },
      "execution_count": 18,
      "outputs": []
    },
    {
      "cell_type": "code",
      "source": [
        "(x_1_train, y_1_train), (x_1_test, y_1_test) = mnist.load_data()\n",
        "\n",
        "x_1_train = x_1_train.reshape(x_1_train.shape[0], 28, 28, 1)\n",
        "x_1_train = x_1_train.astype('float32') / 255.0"
      ],
      "metadata": {
        "colab": {
          "base_uri": "https://localhost:8080/"
        },
        "id": "zh52h9A3NlLT",
        "outputId": "1f052f96-1c4a-4b91-bc06-dbd5ba79a579"
      },
      "execution_count": 19,
      "outputs": [
        {
          "output_type": "stream",
          "name": "stdout",
          "text": [
            "Downloading data from https://storage.googleapis.com/tensorflow/tf-keras-datasets/mnist.npz\n",
            "\u001b[1m11490434/11490434\u001b[0m \u001b[32m━━━━━━━━━━━━━━━━━━━━\u001b[0m\u001b[37m\u001b[0m \u001b[1m0s\u001b[0m 0us/step\n"
          ]
        }
      ]
    },
    {
      "cell_type": "code",
      "source": [
        "y_1_train = one_hot_encode(y_1_train)\n",
        "y_1_test = one_hot_encode(y_1_test)"
      ],
      "metadata": {
        "id": "ROBe97WrPBuQ"
      },
      "execution_count": 20,
      "outputs": []
    },
    {
      "cell_type": "code",
      "source": [
        "x_train.shape"
      ],
      "metadata": {
        "colab": {
          "base_uri": "https://localhost:8080/"
        },
        "id": "FR-m-9Mtds3-",
        "outputId": "03febd65-0b5a-4f63-c562-edbd35a16e21"
      },
      "execution_count": 21,
      "outputs": [
        {
          "output_type": "execute_result",
          "data": {
            "text/plain": [
              "(54000, 784)"
            ]
          },
          "metadata": {},
          "execution_count": 21
        }
      ]
    },
    {
      "cell_type": "code",
      "source": [
        "x_1_train.shape"
      ],
      "metadata": {
        "colab": {
          "base_uri": "https://localhost:8080/"
        },
        "id": "q2HIGLq6du3n",
        "outputId": "5c7cdb73-452b-46c7-aff3-7b251503f91d"
      },
      "execution_count": 22,
      "outputs": [
        {
          "output_type": "execute_result",
          "data": {
            "text/plain": [
              "(60000, 28, 28, 1)"
            ]
          },
          "metadata": {},
          "execution_count": 22
        }
      ]
    },
    {
      "cell_type": "code",
      "source": [
        "rec_config_1 = {\n",
        "    \"activation\": \"sigmoid\",\n",
        "    \"batch_size\": 16,\n",
        "    \"epochs\": 15,\n",
        "    \"fc_layer_size\": 128,\n",
        "    \"lr\": 0.001,\n",
        "    \"num_hidden_layers\": 3,\n",
        "    \"optimizer\": \"nadam\",\n",
        "    \"weight_decay\": 0.005,\n",
        "    \"weight_init\": \"xavier\"\n",
        "}\n",
        "\n",
        "layers = [layer(784, rec_config_1[\"fc_layer_size\"], rec_config_1[\"activation\"], rec_config_1[\"weight_init\"])]\n",
        "for _ in range(rec_config_1[\"num_hidden_layers\"] - 1):\n",
        "    layers.append(layer(rec_config_1[\"fc_layer_size\"], rec_config_1[\"fc_layer_size\"], rec_config_1[\"activation\"], rec_config_1[\"weight_init\"]))\n",
        "layers.append(layer(rec_config_1[\"fc_layer_size\"], 10, \"softmax\", rec_config_1[\"weight_init\"]))\n",
        "\n",
        "num_samples = x_1_train.shape[0]\n",
        "\n",
        "x_1_train = x_1_train.reshape(x_1_train.shape[0], -1)\n",
        "x_1_test = x_1_test.reshape(x_1_test.shape[0], -1)\n",
        "\n",
        "\n",
        "for epoch in range(rec_config_1[\"epochs\"]):\n",
        "    shuffled_indices = np.random.permutation(num_samples)\n",
        "    x_1_train_shuffled = x_1_train[shuffled_indices]\n",
        "    y_1_train_shuffled = y_1_train[shuffled_indices]\n",
        "\n",
        "    for start in range(0, num_samples, rec_config_1[\"batch_size\"]):\n",
        "        end = min(start + rec_config_1[\"batch_size\"], num_samples)\n",
        "        x_batch = x_1_train_shuffled[start:end]\n",
        "        y_batch = y_1_train_shuffled[start:end]\n",
        "\n",
        "        a = x_batch\n",
        "        for l in layers:\n",
        "            a = l.forward(a)\n",
        "\n",
        "        loss = categorical_cross_entropy(y_batch, a, layers, rec_config_1[\"weight_decay\"])\n",
        "\n",
        "        a_d = a - y_batch\n",
        "        for l in reversed(layers):\n",
        "            a_d = l.backprop(a_d, rec_config_1[\"lr\"], rec_config_1[\"optimizer\"])\n",
        "\n",
        "a_test = x_1_test\n",
        "for l in layers:\n",
        "    a_test = l.forward(a_test)\n",
        "\n",
        "acc = accuracy(y_1_test, a_test)\n",
        "\n",
        "print(f\"Accuracy on x_1_test: {acc}\")\n",
        "print(\"Predictions on x_1_test:\", y_pred)\n"
      ],
      "metadata": {
        "colab": {
          "base_uri": "https://localhost:8080/"
        },
        "id": "QhNQt4osQmVD",
        "outputId": "4a66cda2-6d8c-418a-d936-2bcac7a728a4"
      },
      "execution_count": 23,
      "outputs": [
        {
          "output_type": "stream",
          "name": "stdout",
          "text": [
            "Accuracy on x_1_test: 0.9645\n",
            "Predictions on x_1_test: [9 2 1 ... 8 1 5]\n"
          ]
        }
      ]
    },
    {
      "cell_type": "code",
      "source": [
        "rec_config_2 = {\n",
        "    \"activation\": \"sigmoid\",\n",
        "    \"batch_size\": 32,\n",
        "    \"epochs\": 5,\n",
        "    \"fc_layer_size\": 128,\n",
        "    \"lr\": 0.001,\n",
        "    \"num_hidden_layers\": 3,\n",
        "    \"optimizer\": \"adam\",\n",
        "    \"weight_decay\": 0.005,\n",
        "    \"weight_init\": \"xavier\"\n",
        "}\n",
        "\n",
        "layers_2 = [layer(784, rec_config_2[\"fc_layer_size\"], rec_config_2[\"activation\"], rec_config_2[\"weight_init\"])]\n",
        "for _ in range(rec_config_2[\"num_hidden_layers\"] - 1):\n",
        "    layers_2.append(layer(rec_config_2[\"fc_layer_size\"], rec_config_2[\"fc_layer_size\"], rec_config_2[\"activation\"], rec_config_2[\"weight_init\"]))\n",
        "layers_2.append(layer(rec_config_2[\"fc_layer_size\"], 10, \"softmax\", rec_config_2[\"weight_init\"]))\n",
        "\n",
        "num_samples_2 = x_1_train.shape[0]\n",
        "\n",
        "x_1_train = x_1_train.reshape(x_1_train.shape[0], -1)\n",
        "x_1_test = x_1_test.reshape(x_1_test.shape[0], -1)\n",
        "\n",
        "for epoch in range(rec_config_2[\"epochs\"]):\n",
        "    shuffled_indices = np.random.permutation(num_samples_2)\n",
        "    x_1_train_shuffled = x_1_train[shuffled_indices]\n",
        "    y_1_train_shuffled = y_1_train[shuffled_indices]\n",
        "\n",
        "    for start in range(0, num_samples_2, rec_config_2[\"batch_size\"]):\n",
        "        end = min(start + rec_config_2[\"batch_size\"], num_samples_2)\n",
        "        x_batch = x_1_train_shuffled[start:end]\n",
        "        y_batch = y_1_train_shuffled[start:end]\n",
        "\n",
        "        a = x_batch\n",
        "        for l in layers_2:\n",
        "            a = l.forward(a)\n",
        "\n",
        "        loss = categorical_cross_entropy(y_batch, a, layers_2, rec_config_2[\"weight_decay\"])\n",
        "\n",
        "        a_d = a - y_batch\n",
        "        for l in reversed(layers_2):\n",
        "            a_d = l.backprop(a_d, rec_config_2[\"lr\"], rec_config_2[\"optimizer\"])\n",
        "\n",
        "a_test = x_1_test\n",
        "for l in layers_2:\n",
        "    a_test = l.forward(a_test)\n",
        "\n",
        "acc = accuracy(y_1_test, a_test)\n",
        "\n",
        "print(f\"Accuracy on x_1_test for rec_config_2: {acc}\")\n",
        "print(\"Predictions on x_1_test for rec_config_2:\", np.argmax(a_test, axis=1))\n"
      ],
      "metadata": {
        "colab": {
          "base_uri": "https://localhost:8080/"
        },
        "id": "8RRGb9J7_VAN",
        "outputId": "59d6df28-55fa-4f19-f17f-e7862b4727db"
      },
      "execution_count": 24,
      "outputs": [
        {
          "output_type": "stream",
          "name": "stdout",
          "text": [
            "Accuracy on x_1_test for rec_config_2: 0.9612\n",
            "Predictions on x_1_test for rec_config_2: [7 2 1 ... 4 5 6]\n"
          ]
        }
      ]
    },
    {
      "cell_type": "code",
      "source": [
        "rec_config_3 = {\n",
        "    \"activation\": \"relu\",\n",
        "    \"batch_size\": 64,\n",
        "    \"epochs\": 5,\n",
        "    \"fc_layer_size\": 32,\n",
        "    \"lr\": 0.001,\n",
        "    \"num_hidden_layers\": 3,\n",
        "    \"optimizer\": \"adam\",\n",
        "    \"weight_decay\": 0.005,\n",
        "    \"weight_init\": \"xavier\"\n",
        "}\n",
        "\n",
        "layers_3 = [layer(784, rec_config_3[\"fc_layer_size\"], rec_config_3[\"activation\"], rec_config_3[\"weight_init\"])]\n",
        "for _ in range(rec_config_3[\"num_hidden_layers\"] - 1):\n",
        "    layers_3.append(layer(rec_config_3[\"fc_layer_size\"], rec_config_3[\"fc_layer_size\"], rec_config_3[\"activation\"], rec_config_3[\"weight_init\"]))\n",
        "layers_3.append(layer(rec_config_3[\"fc_layer_size\"], 10, \"softmax\", rec_config_3[\"weight_init\"]))\n",
        "\n",
        "num_samples_3 = x_1_train.shape[0]\n",
        "\n",
        "x_1_train = x_1_train.reshape(x_1_train.shape[0], -1)\n",
        "x_1_test = x_1_test.reshape(x_1_test.shape[0], -1)\n",
        "\n",
        "for epoch in range(rec_config_3[\"epochs\"]):\n",
        "    shuffled_indices = np.random.permutation(num_samples_3)\n",
        "    x_1_train_shuffled = x_1_train[shuffled_indices]\n",
        "    y_1_train_shuffled = y_1_train[shuffled_indices]\n",
        "\n",
        "    for start in range(0, num_samples_3, rec_config_3[\"batch_size\"]):\n",
        "        end = min(start + rec_config_3[\"batch_size\"], num_samples_3)\n",
        "        x_batch = x_1_train_shuffled[start:end]\n",
        "        y_batch = y_1_train_shuffled[start:end]\n",
        "\n",
        "        a = x_batch\n",
        "        for l in layers_3:\n",
        "            a = l.forward(a)\n",
        "\n",
        "        loss = categorical_cross_entropy(y_batch, a, layers_3, rec_config_3[\"weight_decay\"])\n",
        "\n",
        "        a_d = a - y_batch\n",
        "        for l in reversed(layers_3):\n",
        "            a_d = l.backprop(a_d, rec_config_3[\"lr\"], rec_config_3[\"optimizer\"])\n",
        "\n",
        "a_test = x_1_test\n",
        "for l in layers_3:\n",
        "    a_test = l.forward(a_test)\n",
        "\n",
        "acc = accuracy(y_1_test, a_test)\n",
        "\n",
        "print(f\"Accuracy on x_1_test for rec_config_3: {acc}\")\n",
        "print(\"Predictions on x_1_test for rec_config_3:\", np.argmax(a_test, axis=1))\n"
      ],
      "metadata": {
        "colab": {
          "base_uri": "https://localhost:8080/"
        },
        "id": "tpUMkNe5F2uW",
        "outputId": "3b5af12f-a207-4c25-96cd-38269e6cdddc"
      },
      "execution_count": 25,
      "outputs": [
        {
          "output_type": "stream",
          "name": "stdout",
          "text": [
            "Accuracy on x_1_test for rec_config_3: 0.9161\n",
            "Predictions on x_1_test for rec_config_3: [7 2 1 ... 4 5 6]\n"
          ]
        }
      ]
    }
  ]
}